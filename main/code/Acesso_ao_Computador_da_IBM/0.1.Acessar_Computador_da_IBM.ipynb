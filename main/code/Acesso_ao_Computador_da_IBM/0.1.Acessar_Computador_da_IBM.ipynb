{
 "cells": [
  {
   "cell_type": "markdown",
   "id": "950ac5a2",
   "metadata": {},
   "source": [
    "## Acessar o computador da IBM\n",
    "\n",
    "- lib do qiskit --> ponte\n",
    "- token API"
   ]
  },
  {
   "cell_type": "code",
   "execution_count": null,
   "id": "d9c4811c",
   "metadata": {},
   "outputs": [],
   "source": []
  },
  {
   "cell_type": "code",
   "execution_count": 2,
   "id": "07a4ecc2",
   "metadata": {},
   "outputs": [],
   "source": [
    "import qiskit\n",
    "from qiskit_ibm_runtime import QiskitRuntimeService\n",
    "\n",
    "service = QiskitRuntimeService(channel=\"ibm_quantum\", token=\"818a3193f676266ae1387c88051fe918473506cc4fa8d65ec58504f98222ff930dd2ff386135bed2bbb0930a320fbbd4730aee3c5052d99c5ac7b984cd3d9383\")"
   ]
  },
  {
   "cell_type": "markdown",
   "id": "e64e38f6",
   "metadata": {},
   "source": [
    "## Salvar o token de acesso no computador doméstico"
   ]
  },
  {
   "cell_type": "code",
   "execution_count": 4,
   "id": "e5977585",
   "metadata": {},
   "outputs": [
    {
     "ename": "AccountAlreadyExistsError",
     "evalue": "'Named account (default-ibm-quantum) already exists. Set overwrite=True to overwrite.'",
     "output_type": "error",
     "traceback": [
      "\u001b[31m---------------------------------------------------------------------------\u001b[39m",
      "\u001b[31mAccountAlreadyExistsError\u001b[39m                 Traceback (most recent call last)",
      "\u001b[36mCell\u001b[39m\u001b[36m \u001b[39m\u001b[32mIn[4]\u001b[39m\u001b[32m, line 1\u001b[39m\n\u001b[32m----> \u001b[39m\u001b[32m1\u001b[39m \u001b[43mQiskitRuntimeService\u001b[49m\u001b[43m.\u001b[49m\u001b[43msave_account\u001b[49m\u001b[43m(\u001b[49m\u001b[43mchannel\u001b[49m\u001b[43m=\u001b[49m\u001b[33;43m\"\u001b[39;49m\u001b[33;43mibm_quantum\u001b[39;49m\u001b[33;43m\"\u001b[39;49m\u001b[43m,\u001b[49m\u001b[43mtoken\u001b[49m\u001b[43m=\u001b[49m\u001b[33;43m'\u001b[39;49m\u001b[33;43m818a3193f676266ae1387c88051fe918473506cc4fa8d65ec58504f98222ff930dd2ff386135bed2bbb0930a320fbbd4730aee3c5052d99c5ac7b984cd3d9383\u001b[39;49m\u001b[33;43m'\u001b[39;49m\u001b[43m)\u001b[49m\n",
      "\u001b[36mFile \u001b[39m\u001b[32mc:\\Users\\ianre\\miniconda3\\envs\\cwq\\Lib\\site-packages\\qiskit_ibm_runtime\\qiskit_runtime_service.py:678\u001b[39m, in \u001b[36mQiskitRuntimeService.save_account\u001b[39m\u001b[34m(token, url, instance, channel, filename, name, proxies, verify, overwrite, set_as_default, private_endpoint)\u001b[39m\n\u001b[32m    641\u001b[39m \u001b[38;5;129m@staticmethod\u001b[39m\n\u001b[32m    642\u001b[39m \u001b[38;5;28;01mdef\u001b[39;00m\u001b[38;5;250m \u001b[39m\u001b[34msave_account\u001b[39m(\n\u001b[32m    643\u001b[39m     token: Optional[\u001b[38;5;28mstr\u001b[39m] = \u001b[38;5;28;01mNone\u001b[39;00m,\n\u001b[32m   (...)\u001b[39m\u001b[32m    653\u001b[39m     private_endpoint: Optional[\u001b[38;5;28mbool\u001b[39m] = \u001b[38;5;28;01mFalse\u001b[39;00m,\n\u001b[32m    654\u001b[39m ) -> \u001b[38;5;28;01mNone\u001b[39;00m:\n\u001b[32m    655\u001b[39m \u001b[38;5;250m    \u001b[39m\u001b[33;03m\"\"\"Save the account to disk for future use.\u001b[39;00m\n\u001b[32m    656\u001b[39m \n\u001b[32m    657\u001b[39m \u001b[33;03m    Args:\u001b[39;00m\n\u001b[32m   (...)\u001b[39m\u001b[32m    675\u001b[39m \u001b[33;03m        private_endpoint: Connect to private API URL.\u001b[39;00m\n\u001b[32m    676\u001b[39m \u001b[33;03m    \"\"\"\u001b[39;00m\n\u001b[32m--> \u001b[39m\u001b[32m678\u001b[39m     \u001b[43mAccountManager\u001b[49m\u001b[43m.\u001b[49m\u001b[43msave\u001b[49m\u001b[43m(\u001b[49m\n\u001b[32m    679\u001b[39m \u001b[43m        \u001b[49m\u001b[43mtoken\u001b[49m\u001b[43m=\u001b[49m\u001b[43mtoken\u001b[49m\u001b[43m,\u001b[49m\n\u001b[32m    680\u001b[39m \u001b[43m        \u001b[49m\u001b[43murl\u001b[49m\u001b[43m=\u001b[49m\u001b[43murl\u001b[49m\u001b[43m,\u001b[49m\n\u001b[32m    681\u001b[39m \u001b[43m        \u001b[49m\u001b[43minstance\u001b[49m\u001b[43m=\u001b[49m\u001b[43minstance\u001b[49m\u001b[43m,\u001b[49m\n\u001b[32m    682\u001b[39m \u001b[43m        \u001b[49m\u001b[43mchannel\u001b[49m\u001b[43m=\u001b[49m\u001b[43mchannel\u001b[49m\u001b[43m,\u001b[49m\n\u001b[32m    683\u001b[39m \u001b[43m        \u001b[49m\u001b[43mfilename\u001b[49m\u001b[43m=\u001b[49m\u001b[43mfilename\u001b[49m\u001b[43m,\u001b[49m\n\u001b[32m    684\u001b[39m \u001b[43m        \u001b[49m\u001b[43mname\u001b[49m\u001b[43m=\u001b[49m\u001b[43mname\u001b[49m\u001b[43m,\u001b[49m\n\u001b[32m    685\u001b[39m \u001b[43m        \u001b[49m\u001b[43mproxies\u001b[49m\u001b[43m=\u001b[49m\u001b[43mProxyConfiguration\u001b[49m\u001b[43m(\u001b[49m\u001b[43m*\u001b[49m\u001b[43m*\u001b[49m\u001b[43mproxies\u001b[49m\u001b[43m)\u001b[49m\u001b[43m \u001b[49m\u001b[38;5;28;43;01mif\u001b[39;49;00m\u001b[43m \u001b[49m\u001b[43mproxies\u001b[49m\u001b[43m \u001b[49m\u001b[38;5;28;43;01melse\u001b[39;49;00m\u001b[43m \u001b[49m\u001b[38;5;28;43;01mNone\u001b[39;49;00m\u001b[43m,\u001b[49m\n\u001b[32m    686\u001b[39m \u001b[43m        \u001b[49m\u001b[43mverify\u001b[49m\u001b[43m=\u001b[49m\u001b[43mverify\u001b[49m\u001b[43m,\u001b[49m\n\u001b[32m    687\u001b[39m \u001b[43m        \u001b[49m\u001b[43moverwrite\u001b[49m\u001b[43m=\u001b[49m\u001b[43moverwrite\u001b[49m\u001b[43m,\u001b[49m\n\u001b[32m    688\u001b[39m \u001b[43m        \u001b[49m\u001b[43mset_as_default\u001b[49m\u001b[43m=\u001b[49m\u001b[43mset_as_default\u001b[49m\u001b[43m,\u001b[49m\n\u001b[32m    689\u001b[39m \u001b[43m        \u001b[49m\u001b[43mprivate_endpoint\u001b[49m\u001b[43m=\u001b[49m\u001b[43mprivate_endpoint\u001b[49m\u001b[43m,\u001b[49m\n\u001b[32m    690\u001b[39m \u001b[43m    \u001b[49m\u001b[43m)\u001b[49m\n",
      "\u001b[36mFile \u001b[39m\u001b[32mc:\\Users\\ianre\\miniconda3\\envs\\cwq\\Lib\\site-packages\\qiskit_ibm_runtime\\accounts\\management.py:65\u001b[39m, in \u001b[36mAccountManager.save\u001b[39m\u001b[34m(cls, token, url, instance, channel, filename, name, proxies, verify, overwrite, set_as_default, private_endpoint)\u001b[39m\n\u001b[32m     55\u001b[39m filename = os.path.expanduser(filename)\n\u001b[32m     56\u001b[39m config = Account.create_account(\n\u001b[32m     57\u001b[39m     channel=channel,\n\u001b[32m     58\u001b[39m     token=token,\n\u001b[32m   (...)\u001b[39m\u001b[32m     63\u001b[39m     private_endpoint=private_endpoint,\n\u001b[32m     64\u001b[39m )\n\u001b[32m---> \u001b[39m\u001b[32m65\u001b[39m \u001b[38;5;28;01mreturn\u001b[39;00m \u001b[43msave_config\u001b[49m\u001b[43m(\u001b[49m\n\u001b[32m     66\u001b[39m \u001b[43m    \u001b[49m\u001b[43mfilename\u001b[49m\u001b[43m=\u001b[49m\u001b[43mfilename\u001b[49m\u001b[43m,\u001b[49m\n\u001b[32m     67\u001b[39m \u001b[43m    \u001b[49m\u001b[43mname\u001b[49m\u001b[43m=\u001b[49m\u001b[43mname\u001b[49m\u001b[43m,\u001b[49m\n\u001b[32m     68\u001b[39m \u001b[43m    \u001b[49m\u001b[43moverwrite\u001b[49m\u001b[43m=\u001b[49m\u001b[43moverwrite\u001b[49m\u001b[43m,\u001b[49m\n\u001b[32m     69\u001b[39m \u001b[43m    \u001b[49m\u001b[43mconfig\u001b[49m\u001b[43m=\u001b[49m\u001b[43mconfig\u001b[49m\n\u001b[32m     70\u001b[39m \u001b[43m    \u001b[49m\u001b[38;5;66;43;03m# avoid storing invalid accounts\u001b[39;49;00m\n\u001b[32m     71\u001b[39m \u001b[43m    \u001b[49m\u001b[43m.\u001b[49m\u001b[43mvalidate\u001b[49m\u001b[43m(\u001b[49m\u001b[43m)\u001b[49m\u001b[43m.\u001b[49m\u001b[43mto_saved_format\u001b[49m\u001b[43m(\u001b[49m\u001b[43m)\u001b[49m\u001b[43m,\u001b[49m\n\u001b[32m     72\u001b[39m \u001b[43m    \u001b[49m\u001b[43mset_as_default\u001b[49m\u001b[43m=\u001b[49m\u001b[43mset_as_default\u001b[49m\u001b[43m,\u001b[49m\n\u001b[32m     73\u001b[39m \u001b[43m\u001b[49m\u001b[43m)\u001b[49m\n",
      "\u001b[36mFile \u001b[39m\u001b[32mc:\\Users\\ianre\\miniconda3\\envs\\cwq\\Lib\\site-packages\\qiskit_ibm_runtime\\accounts\\storage.py:35\u001b[39m, in \u001b[36msave_config\u001b[39m\u001b[34m(filename, name, config, overwrite, set_as_default)\u001b[39m\n\u001b[32m     32\u001b[39m     data = json.load(json_in)\n\u001b[32m     34\u001b[39m \u001b[38;5;28;01mif\u001b[39;00m data.get(name) \u001b[38;5;129;01mand\u001b[39;00m \u001b[38;5;129;01mnot\u001b[39;00m overwrite:\n\u001b[32m---> \u001b[39m\u001b[32m35\u001b[39m     \u001b[38;5;28;01mraise\u001b[39;00m AccountAlreadyExistsError(\n\u001b[32m     36\u001b[39m         \u001b[33mf\u001b[39m\u001b[33m\"\u001b[39m\u001b[33mNamed account (\u001b[39m\u001b[38;5;132;01m{\u001b[39;00mname\u001b[38;5;132;01m}\u001b[39;00m\u001b[33m) already exists. \u001b[39m\u001b[33m\"\u001b[39m \u001b[33mf\u001b[39m\u001b[33m\"\u001b[39m\u001b[33mSet overwrite=True to overwrite.\u001b[39m\u001b[33m\"\u001b[39m\n\u001b[32m     37\u001b[39m     )\n\u001b[32m     39\u001b[39m data[name] = config\n\u001b[32m     41\u001b[39m \u001b[38;5;66;03m# if set_as_default, but another account is defined as default, user must specify overwrite to change\u001b[39;00m\n\u001b[32m     42\u001b[39m \u001b[38;5;66;03m# the default account.\u001b[39;00m\n",
      "\u001b[31mAccountAlreadyExistsError\u001b[39m: 'Named account (default-ibm-quantum) already exists. Set overwrite=True to overwrite.'"
     ]
    }
   ],
   "source": [
    "QiskitRuntimeService.save_account(channel=\"ibm_quantum\",token='818a3193f676266ae1387c88051fe918473506cc4fa8d65ec58504f98222ff930dd2ff386135bed2bbb0930a320fbbd4730aee3c5052d99c5ac7b984cd3d9383')"
   ]
  },
  {
   "cell_type": "markdown",
   "id": "fa2ae389",
   "metadata": {},
   "source": [
    "### Conectar o alg com o CQ\n",
    "- acessar um backend em IBM sherbrooke com objeto service\n",
    "- operation_names --> Listar operações que você pode fazer "
   ]
  },
  {
   "cell_type": "code",
   "execution_count": 5,
   "id": "05599efb",
   "metadata": {},
   "outputs": [
    {
     "data": {
      "text/plain": [
       "['sx',\n",
       " 'id',\n",
       " 'if_else',\n",
       " 'rz',\n",
       " 'reset',\n",
       " 'switch_case',\n",
       " 'x',\n",
       " 'for_loop',\n",
       " 'ecr',\n",
       " 'delay',\n",
       " 'measure']"
      ]
     },
     "execution_count": 5,
     "metadata": {},
     "output_type": "execute_result"
    }
   ],
   "source": [
    "backend = service.backend(name = \"ibm_sherbrooke\")\n",
    "backend.operation_names"
   ]
  },
  {
   "cell_type": "markdown",
   "id": "d50d9d86",
   "metadata": {},
   "source": [
    "measure : Medições \n",
    "x: Por x\n",
    "id: Identidade \n",
    "for_loop: loops\n",
    "rz: rotação no z\n",
    "sx: raiz da porta x\n",
    "ecr: CNOT\n",
    "reset: Resetar qubit\n",
    "delay: controle temporal \n",
    "switch_case: controle de fluxo\n",
    "if_else: condicional "
   ]
  }
 ],
 "metadata": {
  "kernelspec": {
   "display_name": "cwq",
   "language": "python",
   "name": "python3"
  },
  "language_info": {
   "codemirror_mode": {
    "name": "ipython",
    "version": 3
   },
   "file_extension": ".py",
   "mimetype": "text/x-python",
   "name": "python",
   "nbconvert_exporter": "python",
   "pygments_lexer": "ipython3",
   "version": "3.13.2"
  }
 },
 "nbformat": 4,
 "nbformat_minor": 5
}
