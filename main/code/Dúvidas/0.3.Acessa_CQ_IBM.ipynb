{
 "cells": [
  {
   "cell_type": "markdown",
   "id": "c40d94de",
   "metadata": {},
   "source": [
    "### Não consegui acessar o computador da IBM"
   ]
  },
  {
   "cell_type": "code",
   "execution_count": 5,
   "id": "f4c66ec3",
   "metadata": {},
   "outputs": [],
   "source": [
    "from qiskit import *\n",
    "from qiskit_aer import * #IMPORTANTE: instalar qiskit_aer\n",
    "from qiskit.transpiler.preset_passmanagers import generate_preset_pass_manager\n",
    "import numpy as np\n",
    "from qiskit.visualization import plot_histogram"
   ]
  },
  {
   "cell_type": "markdown",
   "id": "f0f0c66b",
   "metadata": {},
   "source": [
    "## Circuito"
   ]
  },
  {
   "cell_type": "code",
   "execution_count": 8,
   "id": "045b8e62",
   "metadata": {},
   "outputs": [
    {
     "data": {
      "image/png": "[encoded data removed]",
      "text/plain": [
       "<Figure size 454.517x284.278 with 1 Axes>"
      ]
     },
     "execution_count": 8,
     "metadata": {},
     "output_type": "execute_result"
    }
   ],
   "source": [
    "Qr = QuantumRegister(2,'q')\n",
    "Cr = ClassicalRegister(2,'c')\n",
    "\n",
    "circuit = QuantumCircuit(Qr,Cr)\n",
    "circuit.x(Qr[0])\n",
    "circuit.x(Qr[1])\n",
    "circuit.cx(Qr[0],Qr[1])\n",
    "circuit.measure(Qr,Cr)\n",
    "\n",
    "circuit.draw(output='mpl')"
   ]
  },
  {
   "cell_type": "markdown",
   "id": "cb437b38",
   "metadata": {},
   "source": [
    "### Executar "
   ]
  },
  {
   "cell_type": "code",
   "execution_count": null,
   "id": "1170a84f",
   "metadata": {},
   "outputs": [],
   "source": []
  }
 ],
 "metadata": {
  "kernelspec": {
   "display_name": "cwq",
   "language": "python",
   "name": "python3"
  },
  "language_info": {
   "codemirror_mode": {
    "name": "ipython",
    "version": 3
   },
   "file_extension": ".py",
   "mimetype": "text/x-python",
   "name": "python",
   "nbconvert_exporter": "python",
   "pygments_lexer": "ipython3",
   "version": "3.13.2"
  }
 },
 "nbformat": 4,
 "nbformat_minor": 5
}
