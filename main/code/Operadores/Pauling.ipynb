{
 "cells": [
  {
   "cell_type": "markdown",
   "id": "ed7593e7",
   "metadata": {},
   "source": [
    "# Operadores\n",
    "- A classe Operator representa um operador linear unitário $M$ que age sobre estados quânticos.\n",
    "\n",
    "- Em Qiskit, ela pode ser usada para:\n",
    "\n",
    "- Evoluir vetores de estado $\\ket{\\psi}$ por multiplicação matricial:\n",
    "\n",
    "$$\\ket{\\psi} \\mapsto M \\ket{\\psi}$$\n",
    "\n",
    "- Evoluir matrizes densidade $\\rho$ pela conjugação unitária:\n",
    "\n",
    "$$ \\rho \\mapsto M \\rho M^\\dagger $$\n",
    "\n",
    "#### Diferença entre usar as porta e a classe Operator\n",
    "Os métodos .x, .y e .z são usados em Qiskit para aplicar diretamente as portas quânticas X, Y e Z a qubits dentro de um circuito. Eles são ideais quando se está montando, simulando ou executando um circuito quântico real, já que atuam sobre os qubits físicos ou simulados de forma prática.\n",
    "\n",
    "Por outro lado, Pauli('X'), Pauli('Y') e Pauli('Z'), da biblioteca qiskit.quantum_info, representam os operadores de Pauli como objetos matemáticos. Eles são usados quando se deseja manipular esses operadores de forma algébrica, por exemplo, para calcular produtos, comutadores, aplicar em vetores de estado, ou construir Hamiltonianos.\n",
    "\n",
    "Em resumo, use .x, .y, .z para montar e executar circuitos, e use Pauli('X'), etc., quando precisar da representação matemática formal dos operadores.\n",
    "\n",
    "\n",
    "$$\n",
    "\\begin{array}{|c|c|}\n",
    "\\hline\n",
    "\\texttt{.x},\\ \\texttt{.y},\\ \\texttt{.z} \\text{ em QuantumCircuit} & \\texttt{Pauli(\"X\")},\\ \\texttt{Pauli(\"Y\")},\\ \\texttt{Pauli(\"Z\")} \\text{ em quantum\\_info} \\\\\n",
    "\\hline\n",
    "\\text{Aplicam uma porta no circuito} & \\text{Representam operadores/matrizes} \\\\\n",
    "\\text{Usado em simulações/execução de circuitos} & \\text{Usado em análises matemáticas} \\\\\n",
    "\\text{Você monta o circuito com } \\texttt{.x(0)} & \\text{Você manipula o operador com álgebra} \\\\\n",
    "\\text{Funciona com QuantumCircuit} & \\text{Funciona com } \\texttt{Operator},\\ \\texttt{Statevector},\\ \\texttt{Pauli},\\ \\texttt{PauliSumOp},\\ \\texttt{SparsePauliOp} \\\\\n",
    "\\hline\n",
    "\\end{array}\n",
    "$$\n"
   ]
  },
  {
   "cell_type": "code",
   "execution_count": null,
   "id": "43856325",
   "metadata": {},
   "outputs": [
    {
     "name": "stdout",
     "output_type": "stream",
     "text": [
      "I =\n",
      " [[1.+0.j 0.+0.j]\n",
      " [0.+0.j 1.+0.j]]\n",
      "X =\n",
      " [[0.+0.j 1.+0.j]\n",
      " [1.+0.j 0.+0.j]]\n",
      "Y =\n",
      " [[0.+0.j 0.-1.j]\n",
      " [0.+1.j 0.+0.j]]\n",
      "Z =\n",
      " [[ 1.+0.j  0.+0.j]\n",
      " [ 0.+0.j -1.+0.j]]\n"
     ]
    }
   ],
   "source": [
    "from qiskit.quantum_info import Pauli, Operator\n",
    "import numpy as np\n",
    "\n",
    "pauli_I = Pauli('I')\n",
    "pauli_X = Pauli('X')\n",
    "pauli_Y = Pauli('Y')\n",
    "pauli_Z = Pauli('Z')\n",
    "\n",
    "print(\"I =\\n\", Operator(pauli_I).data)\n",
    "print(\"X =\\n\", Operator(pauli_X).data)\n",
    "print(\"Y =\\n\", Operator(pauli_Y).data)\n",
    "print(\"Z =\\n\", Operator(pauli_Z).data)\n"
   ]
  },
  {
   "cell_type": "code",
   "execution_count": null,
   "id": "1af9634e",
   "metadata": {},
   "outputs": [
    {
     "name": "stdout",
     "output_type": "stream",
     "text": [
      "X * Y =\n",
      " [[0.+1.j 0.+0.j]\n",
      " [0.+0.j 0.-1.j]]\n"
     ]
    }
   ],
   "source": [
    "from qiskit.quantum_info import Operator\n",
    "\n",
    "X = Operator(Pauli('X')).data\n",
    "Y = Operator(Pauli('Y')).data\n",
    "\n",
    "XY = X @ Y\n",
    "\n",
    "print(\"X * Y =\\n\", XY)\n"
   ]
  }
 ],
 "metadata": {
  "kernelspec": {
   "display_name": "cwq",
   "language": "python",
   "name": "python3"
  },
  "language_info": {
   "codemirror_mode": {
    "name": "ipython",
    "version": 3
   },
   "file_extension": ".py",
   "mimetype": "text/x-python",
   "name": "python",
   "nbconvert_exporter": "python",
   "pygments_lexer": "ipython3",
   "version": "3.13.2"
  }
 },
 "nbformat": 4,
 "nbformat_minor": 5
}
