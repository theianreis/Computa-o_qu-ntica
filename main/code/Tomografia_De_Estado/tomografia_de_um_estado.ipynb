{
 "cells": [
  {
   "cell_type": "code",
   "execution_count": null,
   "id": "474f10cb",
   "metadata": {},
   "outputs": [
    {
     "ename": "ModuleNotFoundError",
     "evalue": "No module named 'qiskit.ignis'",
     "output_type": "error",
     "traceback": [
      "\u001b[31m---------------------------------------------------------------------------\u001b[39m",
      "\u001b[31mModuleNotFoundError\u001b[39m                       Traceback (most recent call last)",
      "\u001b[36mCell\u001b[39m\u001b[36m \u001b[39m\u001b[32mIn[1]\u001b[39m\u001b[32m, line 2\u001b[39m\n\u001b[32m      1\u001b[39m \u001b[38;5;28;01mfrom\u001b[39;00m\u001b[38;5;250m \u001b[39m\u001b[34;01mqiskit\u001b[39;00m\u001b[38;5;250m \u001b[39m\u001b[38;5;28;01mimport\u001b[39;00m *\n\u001b[32m----> \u001b[39m\u001b[32m2\u001b[39m \u001b[38;5;28;01mfrom\u001b[39;00m\u001b[38;5;250m \u001b[39m\u001b[34;01mqiskit\u001b[39;00m\u001b[34;01m.\u001b[39;00m\u001b[34;01mignis\u001b[39;00m\u001b[34;01m.\u001b[39;00m\u001b[34;01mverification\u001b[39;00m\u001b[34;01m.\u001b[39;00m\u001b[34;01mtomography\u001b[39;00m\u001b[38;5;250m \u001b[39m\u001b[38;5;28;01mimport\u001b[39;00m state_tomography_circuits, StateTomographyFitter\n",
      "\u001b[31mModuleNotFoundError\u001b[39m: No module named 'qiskit.ignis'"
     ]
    }
   ],
   "source": [
    "from qiskit import QuantumCircuit\n",
    "from qiskit_aer import AerSimulator\n",
    "from qiskit_experiments.library.tomography import StateTomography\n",
    "from qiskit_experiments.framework import ParallelExperiment\n",
    "\n",
    "# Circuito a ser tomografado: estado |+⟩ = (|0⟩ + |1⟩)/√2\n",
    "qc = QuantumCircuit(1)\n",
    "qc.h(0)\n",
    "\n",
    "# Backend simulador\n",
    "simulator = AerSimulator()\n",
    "\n",
    "# Criar experimento de tomografia de estado\n",
    "tomography_exp = StateTomography(qc)\n",
    "\n",
    "# Rodar experimento\n",
    "result = tomography_exp.run(backend=simulator, shots=1024).block_for_results()\n",
    "\n",
    "# Obter matriz densidade reconstruída\n",
    "fitted_state = result.analysis_results(\"state\").value\n",
    "\n",
    "# Visualizar matriz densidade (em forma de array NumPy)\n",
    "print(fitted_state)"
   ]
  }
 ],
 "metadata": {
  "kernelspec": {
   "display_name": "cwq",
   "language": "python",
   "name": "python3"
  },
  "language_info": {
   "codemirror_mode": {
    "name": "ipython",
    "version": 3
   },
   "file_extension": ".py",
   "mimetype": "text/x-python",
   "name": "python",
   "nbconvert_exporter": "python",
   "pygments_lexer": "ipython3",
   "version": "3.13.2"
  }
 },
 "nbformat": 4,
 "nbformat_minor": 5
}
