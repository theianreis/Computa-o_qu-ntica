{
 "cells": [
  {
   "cell_type": "markdown",
   "id": "c4b15cb8",
   "metadata": {},
   "source": [
    "# Composição de Circuitos"
   ]
  },
  {
   "cell_type": "code",
   "execution_count": 1,
   "id": "cda8b6a8",
   "metadata": {},
   "outputs": [],
   "source": [
    "from qiskit import *"
   ]
  },
  {
   "cell_type": "markdown",
   "id": "ec112531",
   "metadata": {},
   "source": [
    "## Criação de Circuitos"
   ]
  },
  {
   "cell_type": "code",
   "execution_count": 2,
   "id": "63b42842",
   "metadata": {},
   "outputs": [],
   "source": [
    "circuit = QuantumCircuit(3)\n",
    "circuit2 = QuantumCircuit(3)"
   ]
  },
  {
   "cell_type": "markdown",
   "id": "0dda882b",
   "metadata": {},
   "source": [
    "### Criar portas para circuitos para operar o qubits    "
   ]
  },
  {
   "cell_type": "code",
   "execution_count": 3,
   "id": "98a96f90",
   "metadata": {},
   "outputs": [
    {
     "data": {
      "text/plain": [
       "<qiskit.circuit.instructionset.InstructionSet at 0x1f4d193bdf0>"
      ]
     },
     "execution_count": 3,
     "metadata": {},
     "output_type": "execute_result"
    }
   ],
   "source": [
    "#Para os primeiro circuito\n",
    "circuit.x(1)\n",
    "circuit.y(0)\n",
    "\n",
    "#Para o segundo circuito\n",
    "circuit2.z(1)"
   ]
  },
  {
   "cell_type": "code",
   "execution_count": 4,
   "id": "dba09f76",
   "metadata": {},
   "outputs": [
    {
     "data": {
      "image/png": "[encoded data removed]",
      "text/plain": [
       "<Figure size 203.885x284.278 with 1 Axes>"
      ]
     },
     "execution_count": 4,
     "metadata": {},
     "output_type": "execute_result"
    }
   ],
   "source": [
    "circuit.draw('mpl')"
   ]
  },
  {
   "cell_type": "code",
   "execution_count": 5,
   "id": "08fe413a",
   "metadata": {},
   "outputs": [
    {
     "data": {
      "image/png": "[encoded data removed]",
      "text/plain": [
       "<Figure size 203.885x284.278 with 1 Axes>"
      ]
     },
     "execution_count": 5,
     "metadata": {},
     "output_type": "execute_result"
    }
   ],
   "source": [
    "circuit2.draw('mpl')"
   ]
  },
  {
   "cell_type": "code",
   "execution_count": 7,
   "id": "e2d47315",
   "metadata": {},
   "outputs": [
    {
     "data": {
      "image/png": "[encoded data removed]",
      "text/plain": [
       "<Figure size 203.885x284.278 with 1 Axes>"
      ]
     },
     "execution_count": 7,
     "metadata": {},
     "output_type": "execute_result"
    }
   ],
   "source": [
    "#Problema que o compose resolve\n",
    "\n",
    "circuit.draw(output = 'mpl')\n",
    "# quem é impresso é o circuito 2 e não os dois circuitos. A composição do circuito gera 2 circuitos mutados(Imbutidos)\n",
    "circuit2.draw(output='mpl')"
   ]
  },
  {
   "cell_type": "code",
   "execution_count": 6,
   "id": "bd5f8c9b",
   "metadata": {},
   "outputs": [
    {
     "data": {
      "image/png": "[encoded data removed]",
      "text/plain": [
       "<Figure size 287.496x284.278 with 1 Axes>"
      ]
     },
     "execution_count": 6,
     "metadata": {},
     "output_type": "execute_result"
    }
   ],
   "source": [
    "#Erro na sintaxe do composed \n",
    "\n",
    "composed_circuit_circuit2 = circuit.compose(circuit2)\n",
    "\n",
    "composed_circuit_circuit2.draw('mpl')"
   ]
  }
 ],
 "metadata": {
  "kernelspec": {
   "display_name": "cwq",
   "language": "python",
   "name": "python3"
  },
  "language_info": {
   "codemirror_mode": {
    "name": "ipython",
    "version": 3
   },
   "file_extension": ".py",
   "mimetype": "text/x-python",
   "name": "python",
   "nbconvert_exporter": "python",
   "pygments_lexer": "ipython3",
   "version": "3.13.2"
  }
 },
 "nbformat": 4,
 "nbformat_minor": 5
}
