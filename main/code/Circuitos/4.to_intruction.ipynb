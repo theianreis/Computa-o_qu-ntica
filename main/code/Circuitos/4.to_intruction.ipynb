{
 "cells": [
  {
   "cell_type": "markdown",
   "id": "d83778f5",
   "metadata": {},
   "source": [
    "# Uso do append para operar operadores simultaneamente em circuitos"
   ]
  },
  {
   "cell_type": "code",
   "execution_count": 1,
   "id": "fff1fe34",
   "metadata": {},
   "outputs": [],
   "source": [
    "from qiskit import *"
   ]
  },
  {
   "cell_type": "markdown",
   "id": "2ca097da",
   "metadata": {},
   "source": [
    "# Criar o circuito"
   ]
  },
  {
   "cell_type": "code",
   "execution_count": 11,
   "id": "541eb5dd",
   "metadata": {},
   "outputs": [
    {
     "data": {
      "image/png": "[encoded data removed]",
      "text/plain": [
       "<Figure size 287.496x367.889 with 1 Axes>"
      ]
     },
     "execution_count": 11,
     "metadata": {},
     "output_type": "execute_result"
    }
   ],
   "source": [
    "circuit1 = QuantumCircuit(4)\n",
    "circuit2 = QuantumCircuit(2)\n",
    "\n",
    "circuit1.x(1)\n",
    "\n",
    "#Composição de circuitos \n",
    "composed = circuit1.compose(circuit2)\n",
    "\n",
    "#Criar uma instrução no circuito 2\n",
    "intr = circuit2.to_instruction\n",
    "\n",
    "#Aplica essa intrução dentro do circuito \n",
    "circuit1.append(circuit2,[2,3])\n",
    "\n",
    "circuit1.draw('mpl')\n",
    "\n"
   ]
  }
 ],
 "metadata": {
  "kernelspec": {
   "display_name": "cwq",
   "language": "python",
   "name": "python3"
  },
  "language_info": {
   "codemirror_mode": {
    "name": "ipython",
    "version": 3
   },
   "file_extension": ".py",
   "mimetype": "text/x-python",
   "name": "python",
   "nbconvert_exporter": "python",
   "pygments_lexer": "ipython3",
   "version": "3.13.2"
  }
 },
 "nbformat": 4,
 "nbformat_minor": 5
}
