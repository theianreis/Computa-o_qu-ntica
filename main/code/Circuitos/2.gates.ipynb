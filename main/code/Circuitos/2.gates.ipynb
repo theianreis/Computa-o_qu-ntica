{
 "cells": [
  {
   "cell_type": "markdown",
   "metadata": {},
   "source": [
    "## Portas\n",
    "- Operações com qubits\n",
    "- Blocos de construção de um circuito\n",
    "\n",
    "### Hadamard circuit.h()\n",
    "- criar superposição uniforme\n",
    "- 0 --> combinação de 0 e 1\n",
    "\n",
    "### Gate Not circuit.x() --> Pauli-x\n",
    "- Espelhamento do eixo x\n",
    "- 0 --> 1 ou 1-->0\n",
    "\n",
    "### Gate Pauli-z\n",
    "- Mudança de fase\n",
    "- fator de -1 em 1"
   ]
  },
  {
   "cell_type": "code",
   "execution_count": 3,
   "metadata": {},
   "outputs": [],
   "source": [
    "from qiskit import QuantumCircuit,QuantumRegister,ClassicalRegister"
   ]
  },
  {
   "cell_type": "code",
   "execution_count": null,
   "metadata": {},
   "outputs": [],
   "source": [
    "#Dúvida diferença do (Qr,Cr) para (1,1)\n",
    "\n",
    "#Qr = QuantumRegister(1)\n",
    "#Cr = ClassicalRegister(1)\n",
    "\n",
    "#circuit = QuantumCircuit(Qr,Cr)"
   ]
  },
  {
   "cell_type": "code",
   "execution_count": 4,
   "metadata": {},
   "outputs": [
    {
     "data": {
      "text/plain": [
       "<qiskit.circuit.instructionset.InstructionSet at 0x168c41d61d0>"
      ]
     },
     "execution_count": 4,
     "metadata": {},
     "output_type": "execute_result"
    }
   ],
   "source": [
    "Qr = QuantumRegister(1)\n",
    "Cr = ClassicalRegister(1)\n",
    "\n",
    "circuit = QuantumCircuit(Qr,Cr)\n",
    "circuit.reset(Qr[0])"
   ]
  },
  {
   "cell_type": "code",
   "execution_count": 2,
   "metadata": {},
   "outputs": [
    {
     "ename": "NameError",
     "evalue": "name 'circuit' is not defined",
     "output_type": "error",
     "traceback": [
      "\u001b[31m---------------------------------------------------------------------------\u001b[39m",
      "\u001b[31mNameError\u001b[39m                                 Traceback (most recent call last)",
      "\u001b[36mCell\u001b[39m\u001b[36m \u001b[39m\u001b[32mIn[2]\u001b[39m\u001b[32m, line 2\u001b[39m\n\u001b[32m      1\u001b[39m \u001b[38;5;66;03m#h(qubit do indice 0 no circuito)\u001b[39;00m\n\u001b[32m----> \u001b[39m\u001b[32m2\u001b[39m \u001b[43mcircuit\u001b[49m.h(\u001b[32m0\u001b[39m) \u001b[38;5;66;03m#Superposição\u001b[39;00m\n\u001b[32m      3\u001b[39m circuit.x(\u001b[32m0\u001b[39m) \u001b[38;5;66;03m#Inverte o estado do qubit\u001b[39;00m\n\u001b[32m      4\u001b[39m circuit.z(\u001b[32m0\u001b[39m) \u001b[38;5;66;03m#Inversão de Fase\u001b[39;00m\n",
      "\u001b[31mNameError\u001b[39m: name 'circuit' is not defined"
     ]
    }
   ],
   "source": [
    "\n",
    "#h(qubit do indice 0 no circuito)\n",
    "circuit.h(0) #Superposição\n",
    "circuit.x(0) #Inverte o estado do qubit\n",
    "circuit.z(0) #Inversão de Fase\n",
    "\n",
    "\n",
    "circuit.draw(output='mpl')"
   ]
  },
  {
   "cell_type": "code",
   "execution_count": 6,
   "metadata": {},
   "outputs": [
    {
     "data": {
      "image/png": "[encoded data removed]",
      "text/plain": [
       "<Figure size 537.926x200.667 with 1 Axes>"
      ]
     },
     "execution_count": 6,
     "metadata": {},
     "output_type": "execute_result"
    }
   ],
   "source": [
    "#medição do qubit 0 em bit 0\n",
    "circuit.measure(0,0)\n",
    "circuit.draw('mpl')"
   ]
  }
 ],
 "metadata": {
  "kernelspec": {
   "display_name": "cwq",
   "language": "python",
   "name": "python3"
  },
  "language_info": {
   "codemirror_mode": {
    "name": "ipython",
    "version": 3
   },
   "file_extension": ".py",
   "mimetype": "text/x-python",
   "name": "python",
   "nbconvert_exporter": "python",
   "pygments_lexer": "ipython3",
   "version": "3.13.2"
  }
 },
 "nbformat": 4,
 "nbformat_minor": 2
}
