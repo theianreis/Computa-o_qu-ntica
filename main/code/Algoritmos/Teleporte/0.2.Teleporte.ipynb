{
 "cells": [
  {
   "cell_type": "code",
   "execution_count": 5,
   "id": "ff8f4b25",
   "metadata": {},
   "outputs": [],
   "source": [
    "from qiskit import *\n",
    "from qiskit import QuantumCircuit\n",
    "import random\n",
    "import numpy as np\n",
    "from qiskit_ibm_runtime import QiskitRuntimeService\n",
    "from qiskit_ibm_runtime import SamplerV2 as Sampler\n",
    "from qiskit.primitives import BackendSamplerV2\n",
    "from qiskit.visualization import plot_histogram"
   ]
  },
  {
   "cell_type": "code",
   "execution_count": null,
   "id": "207f6a5e",
   "metadata": {},
   "outputs": [],
   "source": [
    "#Criando o circuito \n",
    "Secret = QuantumRegister(1,\"Q\")\n",
    "Alice = QuantumRegister(1,\"A\") \n",
    "Bob = QuantumRegister(1,\"B\")\n",
    "cr = ClassicalRegister(3,'c')\n",
    "circuit = QuantumCircuit(Secret,Alice,Bob,cr)\n",
    "\n",
    "#Entrelaçamento entre Alice(Controladora) e bob(Alvo)\n",
    "circuit.h(Alice)\n",
    "circuit.cx(Alice,Bob)\n",
    "circuit.barrier()\n",
    "\n",
    "#Criação de um estado arbitrário\n",
    "np.random.seed(42)\n",
    "theta = np.random.uniform(0.0,1.0)*np.pi\n",
    "varphi = np.random.uniform(0.0,2.0)*np.pi\n",
    "circuit.u(theta,varphi,0.0,Secret)\n"
   ]
  }
 ],
 "metadata": {
  "kernelspec": {
   "display_name": "cwq",
   "language": "python",
   "name": "python3"
  },
  "language_info": {
   "codemirror_mode": {
    "name": "ipython",
    "version": 3
   },
   "file_extension": ".py",
   "mimetype": "text/x-python",
   "name": "python",
   "nbconvert_exporter": "python",
   "pygments_lexer": "ipython3",
   "version": "3.13.2"
  }
 },
 "nbformat": 4,
 "nbformat_minor": 5
}
