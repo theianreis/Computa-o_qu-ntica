{
 "cells": [
  {
   "cell_type": "code",
   "execution_count": 1,
   "id": "9ff3d310",
   "metadata": {},
   "outputs": [],
   "source": [
    "from qiskit import *\n",
    "from qiskit.visualization import plot_histogram\n",
    "from qiskit.visualization import plot_bloch_multivector\n",
    "from qiskit_aer import *\n",
    "from qiskit.quantum_info import Statevector\n"
   ]
  },
  {
   "cell_type": "code",
   "execution_count": 2,
   "id": "8809f9da",
   "metadata": {},
   "outputs": [],
   "source": [
    "Dq = QuantumRegister(1)\n",
    "Alice = QuantumRegister(1)\n",
    "Bob = QuantumRegister(1)\n",
    "\n",
    "Alice1_medida = ClassicalRegister(1)\n",
    "Alice2_medida = ClassicalRegister(1)\n",
    "Bob_medida = ClassicalRegister(1)\n",
    "\n",
    "circuit = QuantumCircuit(Dq,Alice,Bob,)\n",
    "circuit_medida = QuantumCircuit(Alice1_medida,Alice2_medida,Bob_medida)\n",
    "\n",
    "composed_circuit = circuit.compose(circuit_medida)"
   ]
  },
  {
   "cell_type": "code",
   "execution_count": 3,
   "id": "d9f26a62",
   "metadata": {},
   "outputs": [
    {
     "data": {
      "image/png": "[encoded data removed]",
      "text/plain": [
       "<Figure size 162.08x535.111 with 1 Axes>"
      ]
     },
     "execution_count": 3,
     "metadata": {},
     "output_type": "execute_result"
    }
   ],
   "source": [
    "composed_circuit.draw('mpl')"
   ]
  },
  {
   "cell_type": "code",
   "execution_count": 4,
   "id": "2ab64fbb",
   "metadata": {},
   "outputs": [
    {
     "data": {
      "image/png": "[encoded data removed]",
      "text/plain": [
       "<Figure size 371.107x284.278 with 1 Axes>"
      ]
     },
     "execution_count": 4,
     "metadata": {},
     "output_type": "execute_result"
    }
   ],
   "source": [
    "circuit.h(Alice)\n",
    "circuit.cx(Alice,Bob)\n",
    "circuit.barrier()\n",
    "circuit.draw('mpl')"
   ]
  },
  {
   "cell_type": "code",
   "execution_count": 1,
   "id": "e5b34d89",
   "metadata": {},
   "outputs": [
    {
     "ename": "NameError",
     "evalue": "name 'circuit' is not defined",
     "output_type": "error",
     "traceback": [
      "\u001b[31m---------------------------------------------------------------------------\u001b[39m",
      "\u001b[31mNameError\u001b[39m                                 Traceback (most recent call last)",
      "\u001b[36mCell\u001b[39m\u001b[36m \u001b[39m\u001b[32mIn[1]\u001b[39m\u001b[32m, line 1\u001b[39m\n\u001b[32m----> \u001b[39m\u001b[32m1\u001b[39m \u001b[43mcircuit\u001b[49m.cx(Dq,Alice)\n\u001b[32m      2\u001b[39m circuit.h(Dq)\n\u001b[32m      3\u001b[39m circuit.measure(Alice,Alice2_medida)\n",
      "\u001b[31mNameError\u001b[39m: name 'circuit' is not defined"
     ]
    }
   ],
   "source": [
    "circuit.cx(Dq,Alice)\n",
    "circuit.h(Dq)\n",
    "circuit.measure(Alice,Alice2_medida)\n",
    "circuit.measure(Dq, Alice1_medida)\n",
    "circuit.barrier()"
   ]
  },
  {
   "cell_type": "code",
   "execution_count": null,
   "id": "1fbe5b65",
   "metadata": {},
   "outputs": [],
   "source": [
    "circuit.x(Bob)\n",
    "circuit.z(Bob)\n",
    "circuit.barrier()\n"
   ]
  },
  {
   "cell_type": "code",
   "execution_count": null,
   "id": "05ff3f66",
   "metadata": {},
   "outputs": [],
   "source": [
    "circuit.measure(Bob, Bob_medida)"
   ]
  }
 ],
 "metadata": {
  "kernelspec": {
   "display_name": "cwq",
   "language": "python",
   "name": "python3"
  },
  "language_info": {
   "codemirror_mode": {
    "name": "ipython",
    "version": 3
   },
   "file_extension": ".py",
   "mimetype": "text/x-python",
   "name": "python",
   "nbconvert_exporter": "python",
   "pygments_lexer": "ipython3",
   "version": "3.13.2"
  }
 },
 "nbformat": 4,
 "nbformat_minor": 5
}
