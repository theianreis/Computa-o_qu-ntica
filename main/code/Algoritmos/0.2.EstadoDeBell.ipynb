{
 "cells": [
  {
   "cell_type": "code",
   "execution_count": null,
   "id": "cfcbdfde",
   "metadata": {},
   "outputs": [],
   "source": [
    "from qiskit import *"
   ]
  },
  {
   "cell_type": "markdown",
   "id": "5e9403cc",
   "metadata": {},
   "source": [
    "# Estado de Bell \n",
    "## A lógica do Estado de Bell\n",
    "- Registrar 2 qubits\n",
    "- Colocar um qubit em superposição \n",
    "- Emaranhar dois qubit     "
   ]
  },
  {
   "cell_type": "markdown",
   "id": "00223681",
   "metadata": {},
   "source": [
    "Registrar 2 qubits e 2 bits. E criar um circuito"
   ]
  },
  {
   "cell_type": "code",
   "execution_count": 2,
   "id": "c71691fb",
   "metadata": {},
   "outputs": [
    {
     "data": {
      "image/png": "[encoded data removed]",
      "text/plain": [
       "<Figure size 161.878x284.278 with 1 Axes>"
      ]
     },
     "execution_count": 2,
     "metadata": {},
     "output_type": "execute_result"
    }
   ],
   "source": [
    "Qr = QuantumRegister(2, 'q')\n",
    "Cr = ClassicalRegister(2, 'c')\n",
    "circuit = QuantumCircuit(Qr,Cr)\n",
    "\n",
    "circuit.draw('mpl')"
   ]
  },
  {
   "cell_type": "markdown",
   "id": "5f77b1de",
   "metadata": {},
   "source": [
    "Criar o espaço de bell"
   ]
  },
  {
   "cell_type": "code",
   "execution_count": null,
   "id": "32a21782",
   "metadata": {},
   "outputs": [
    {
     "data": {
      "image/png": "[encoded data removed]",
      "text/plain": [
       "<Figure size 370.906x284.278 with 1 Axes>"
      ]
     },
     "execution_count": 3,
     "metadata": {},
     "output_type": "execute_result"
    }
   ],
   "source": [
    "circuit.h(0) #Superposição \n",
    "circuit.cx(0,1) #Emaranhamento \n",
    "\n",
    "circuit.draw('mpl')"
   ]
  }
 ],
 "metadata": {
  "kernelspec": {
   "display_name": "cwq",
   "language": "python",
   "name": "python3"
  },
  "language_info": {
   "codemirror_mode": {
    "name": "ipython",
    "version": 3
   },
   "file_extension": ".py",
   "mimetype": "text/x-python",
   "name": "python",
   "nbconvert_exporter": "python",
   "pygments_lexer": "ipython3",
   "version": "3.13.2"
  }
 },
 "nbformat": 4,
 "nbformat_minor": 5
}
