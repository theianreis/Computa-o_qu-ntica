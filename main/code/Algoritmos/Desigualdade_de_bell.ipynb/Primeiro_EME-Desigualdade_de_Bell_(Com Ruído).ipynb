{
 "cells": [
  {
   "cell_type": "markdown",
   "id": "bbab568c",
   "metadata": {},
   "source": [
    "## Desigualdade De Bell\n",
    "- desigualdade de CHSH estabelece um limite máximo para a correlação entre medições locais em dois sistemas separados\n",
    "- Limite Clássico: $|S|\\leq2$\n",
    "- Limite Quântico: $|S|\\leq2\\sqrt{2}$"
   ]
  },
  {
   "cell_type": "markdown",
   "id": "ff7edc44",
   "metadata": {},
   "source": [
    "## Desenvolvendo circuitos para Violar a Desigualdade de Bell\n",
    "\n",
    "1. Preparar estados maximamente emaranhados\n",
    "$$\n",
    "\\begin{cases} \n",
    "\\ket{\\Phi^{+}} = \\frac{1}{\\sqrt{2}} (\\ket{00}+{11}) \\\\\n",
    "\\ket{\\Phi^{-}} = \\frac{1}{\\sqrt{2}} (\\ket{00}-{11}) \\\\\n",
    "\\ket{\\Psi^{+}} = \\frac{1}{\\sqrt{2}} (\\ket{01}+{10}) \\\\\n",
    "\\ket{\\Psi^{-}} = \\frac{1}{\\sqrt{2}} (\\ket{01}-{10})\n",
    "\\end{cases} \n",
    "$$\n",
    "2. Realizar medições nos qubits em bases escolhidas para maximizar a violação da desigualdade de Bell\n",
    "3. Coletar as estatísticas \n",
    "4. Calcular a expressão de CHSH com os resultados experimentais."
   ]
  },
  {
   "cell_type": "code",
   "execution_count": 3,
   "id": "dd4d0ec3",
   "metadata": {},
   "outputs": [],
   "source": [
    "from qiskit import *\n",
    "from qiskit.circuit.library import RYGate\n",
    "import numpy as np\n",
    "from qiskit_aer import AerSimulator\n",
    "from qiskit.quantum_info import Statevector, DensityMatrix\n",
    "from qiskit_aer import AerSimulator\n",
    "from qiskit_aer.noise import NoiseModel\n",
    "from qiskit.primitives import BackendSamplerV2\n",
    "from qiskit_ibm_runtime import QiskitRuntimeService, SamplerV2\n",
    "from qiskit.visualization import plot_histogram\n"
   ]
  },
  {
   "cell_type": "markdown",
   "id": "b7fb36a0",
   "metadata": {},
   "source": [
    "## Mapeamento:\n",
    "- Criação do circuito com qubtis emaranhados\n",
    "- Para violar CHSH, as medições devem ser feitas em bases rotacionadas. Logo, vamo aplicar uma porta RY para atingir a violação.\n",
    "- Utilizamos um função que recebe dois parâmetros: theta_a(Ângulo de medição de Alice) e theta_b(Ângulo de medição de Bob) para criação de um circuito. Esse ângulos contribuiem para determinação das bases para qubit que será medido \n"
   ]
  },
  {
   "cell_type": "code",
   "execution_count": 4,
   "id": "61c8c345",
   "metadata": {},
   "outputs": [
    {
     "data": {
      "image/png": "[encoded data removed]",
      "text/plain": [
       "<Figure size 831.22x367.889 with 1 Axes>"
      ]
     },
     "execution_count": 4,
     "metadata": {},
     "output_type": "execute_result"
    }
   ],
   "source": [
    "#Função do estado de bell com parametros theta_a e theta_b\n",
    "def bell_circuit(theta_a, theta_b):\n",
    "    qc = QuantumCircuit(2, 2)\n",
    "    qc.h(0)\n",
    "    qc.cx(0, 1)\n",
    "    qc.x(1)\n",
    "    qc.z(1)\n",
    "\n",
    "    #Rotação de um qubit em torno do eixo Y.\n",
    "    qc.ry(-theta_a, 0) #Rotação de Alice\n",
    "    qc.ry(-theta_b, 1) #Rotação de Bob\n",
    "    \n",
    "    qc.measure_all()\n",
    "    return qc\n",
    "\n",
    "# Circuito sem rotação\n",
    "theta_a = 0\n",
    "theta_b = 0\n",
    "\n",
    "circuito = bell_circuit(theta_a, theta_b)\n",
    "circuito.draw(\"mpl\")"
   ]
  },
  {
   "cell_type": "code",
   "execution_count": 5,
   "id": "a24c3a60",
   "metadata": {},
   "outputs": [
    {
     "data": {
      "text/latex": [
       "$$\\frac{\\sqrt{2}}{2} |01\\rangle- \\frac{\\sqrt{2}}{2} |10\\rangle$$"
      ],
      "text/plain": [
       "<IPython.core.display.Latex object>"
      ]
     },
     "execution_count": 5,
     "metadata": {},
     "output_type": "execute_result"
    }
   ],
   "source": [
    "# --- make a copy without the measurements -------------------------\n",
    "latex = circuito.remove_final_measurements(inplace=False)\n",
    "\n",
    "# --- get the statevector ------------------------------------------\n",
    "psi = Statevector.from_instruction(latex)\n",
    "#print(psi.data)            # raw complex amplitudes\n",
    "\n",
    "psi.draw(output='latex')          # pretty bra-ket form\n"
   ]
  },
  {
   "cell_type": "markdown",
   "id": "7f12a53b",
   "metadata": {},
   "source": [
    "## Criação do Backend e Transpilação \n",
    "1. Criamos o Backend e \n",
    "2. Definimos a quantidade de execuções\n",
    "3. Criação de um dicionário para armazenar as configurações de medição. E armazenamos os valores dos ângulos para rotação em tuplas theta_a e theta_b\n",
    "2. Execução de circuitos para ângulos específicos\n",
    "3. Executar cada circuito para uma das quatro configurações.\n",
    "4. Loop:\n",
    "    - Simular quatro experimentos diferentes com quatro ângulos\n",
    "    - Salva os resultados "
   ]
  },
  {
   "cell_type": "code",
   "execution_count": 3,
   "id": "a50a868a",
   "metadata": {},
   "outputs": [
    {
     "name": "stdout",
     "output_type": "stream",
     "text": [
      "<IBMBackend('ibm_brisbane')>\n"
     ]
    }
   ],
   "source": [
    "service = QiskitRuntimeService()\n",
    "backend = service.least_busy(operational=True,\n",
    "                             simulator=False,\n",
    "                             min_num_qubits=50)\n",
    "\n",
    "noise_model = NoiseModel.from_backend(backend)\n",
    "print(backend)\n",
    "backend_simulator = AerSimulator(noise_model=noise_model)\n",
    "sampler = BackendSamplerV2(backend=backend_simulator)\n",
    "backend = AerSimulator()"
   ]
  },
  {
   "cell_type": "code",
   "execution_count": 4,
   "id": "d90d07be",
   "metadata": {},
   "outputs": [],
   "source": [
    "# Criação do dicionário com ângulos de rotação \n",
    "angles = {\n",
    "    'A0B0': (0,np.pi/4),\n",
    "    'A0B1': (0,-np.pi/4),\n",
    "    'A1B0': (np.pi/2,np.pi/4),\n",
    "    'A1B1': (np.pi/2,-np.pi/4)\n",
    "}\n",
    "\n",
    "# Executar os circuitos\n",
    "results_com_ruido = {} #Inicializa dicionário vazio para armazenar as contagens de cada configuração.\n",
    "for label, (theta_a, theta_b) in angles.items(): #Itera sobre cada par label e tuplas de ângulos\n",
    "    qc = bell_circuit(theta_a, theta_b) #Retorna o circuito quântico específico daquela configuração.\n",
    "    tqc = transpile(qc, backend_simulator) #adapta o circuito para o backend (aqui, o simulador).\n",
    "    job = backend_simulator.run(tqc, shots=1000) #Executa o circuito transpilado no simulador.\n",
    "    counts = job.result().get_counts()\n",
    "    results_com_ruido[label] = counts #Armazena os resultados no dicionário results, com a chave sendo o rótulo da configuração"
   ]
  },
  {
   "cell_type": "code",
   "execution_count": 5,
   "id": "b9aae61d",
   "metadata": {},
   "outputs": [
    {
     "ename": "NameError",
     "evalue": "name 'results' is not defined",
     "output_type": "error",
     "traceback": [
      "\u001b[31m---------------------------------------------------------------------------\u001b[39m",
      "\u001b[31mNameError\u001b[39m                                 Traceback (most recent call last)",
      "\u001b[36mCell\u001b[39m\u001b[36m \u001b[39m\u001b[32mIn[5]\u001b[39m\u001b[32m, line 11\u001b[39m\n\u001b[32m      8\u001b[39m axs = axs.ravel()\n\u001b[32m     10\u001b[39m \u001b[38;5;66;03m# Para cada configuração de ângulo, gerar o histograma correspondente\u001b[39;00m\n\u001b[32m---> \u001b[39m\u001b[32m11\u001b[39m \u001b[38;5;28;01mfor\u001b[39;00m idx, (label, counts) \u001b[38;5;129;01min\u001b[39;00m \u001b[38;5;28menumerate\u001b[39m(\u001b[43mresults\u001b[49m.items()):\n\u001b[32m     12\u001b[39m     plot_histogram(counts, ax=axs[idx], title=\u001b[33mf\u001b[39m\u001b[33m'\u001b[39m\u001b[33mMedições para \u001b[39m\u001b[38;5;132;01m{\u001b[39;00mlabel\u001b[38;5;132;01m}\u001b[39;00m\u001b[33m'\u001b[39m)\n\u001b[32m     13\u001b[39m     axs[idx].set_xlabel(\u001b[33m'\u001b[39m\u001b[33mResultados (Alice Bob)\u001b[39m\u001b[33m'\u001b[39m)\n",
      "\u001b[31mNameError\u001b[39m: name 'results' is not defined"
     ]
    },
    {
     "data": {
      "image/png": "[encoded data removed]",
      "text/plain": [
       "<Figure size 1200x1000 with 4 Axes>"
      ]
     },
     "metadata": {},
     "output_type": "display_data"
    }
   ],
   "source": [
    "import matplotlib.pyplot as plt\n",
    "from qiskit.visualization import plot_histogram\n",
    "\n",
    "# Criar uma figura com 2x2 subplots\n",
    "fig, axs = plt.subplots(2, 2, figsize=(12, 10))\n",
    "\n",
    "# Converter os eixos para uma lista simples para facilitar o loop\n",
    "axs = axs.ravel()\n",
    "\n",
    "# Para cada configuração de ângulo, gerar o histograma correspondente\n",
    "for idx, (label, counts) in enumerate(results.items()):\n",
    "    plot_histogram(counts, ax=axs[idx], title=f'Medições para {label}')\n",
    "    axs[idx].set_xlabel('Resultados (Alice Bob)')\n",
    "    axs[idx].set_ylabel('Contagem')\n",
    "\n",
    "plt.tight_layout()\n",
    "plt.show()\n"
   ]
  },
  {
   "cell_type": "markdown",
   "id": "c5422c62",
   "metadata": {},
   "source": [
    "---"
   ]
  },
  {
   "cell_type": "markdown",
   "id": "1b1e14d1",
   "metadata": {},
   "source": [
    "5.  Calcular o valor esperado\n",
    "\n",
    "$$\n",
    "E = \\sum_{a,b} v(a,b) \\cdot P(a,b)\n",
    "\\quad \\text{onde} \\quad\n",
    "v(a,b) = \n",
    "\\begin{cases}\n",
    "+1 & \\text{se } a = b \\\\\n",
    "-1 & \\text{se } a \\neq b\n",
    "\\end{cases}\n",
    "$$"
   ]
  },
  {
   "cell_type": "code",
   "execution_count": null,
   "id": "9c219624",
   "metadata": {},
   "outputs": [],
   "source": [
    "# Contrução de uma função que recebe o dicionário counts ,e retorna o valor de E\n",
    "def expectation(counts):\n",
    "    total = sum(counts.values()) #soma de todas as contagens \n",
    "    e = 0 #Inicializa variável acumuladora de expectativa.\n",
    "    for outcome, count in counts.items():\n",
    "        a, b = int(outcome[1]), int(outcome[0])  #\n",
    "        value = 1 if a == b else -1 #Aplicação de v(a,b)\n",
    "        e += value * count / total\n",
    "    return e\n"
   ]
  },
  {
   "cell_type": "markdown",
   "id": "3896bfa5",
   "metadata": {},
   "source": [
    "## Cálculo do parâmetro CHSH\n",
    "$$\n",
    "S =E(A_0,B_0)+E(A_0,B_1)+E(A_1,B_0)-E(E_1,B_1)\n",
    "$$\n",
    "- Se \n",
    "$∣S∣>2$, há violação da desigualdade clássica, provando não-localidade quântica."
   ]
  },
  {
   "cell_type": "code",
   "execution_count": null,
   "id": "82b780dd",
   "metadata": {},
   "outputs": [
    {
     "name": "stdout",
     "output_type": "stream",
     "text": [
      "S = -2.616\n"
     ]
    }
   ],
   "source": [
    "E = {label: expectation(c) for label, c in results_com_ruido.items()} #Expectativas calculadas\n",
    "\n",
    "S = E['A0B0'] + E['A0B1'] + E['A1B0'] - E['A1B1'] #Combina as 4 expectativas conforme a fórmula CHSH \n",
    "print(f\"S = {S:.3f}\")"
   ]
  }
 ],
 "metadata": {
  "kernelspec": {
   "display_name": "cwq",
   "language": "python",
   "name": "python3"
  },
  "language_info": {
   "codemirror_mode": {
    "name": "ipython",
    "version": 3
   },
   "file_extension": ".py",
   "mimetype": "text/x-python",
   "name": "python",
   "nbconvert_exporter": "python",
   "pygments_lexer": "ipython3",
   "version": "3.13.2"
  }
 },
 "nbformat": 4,
 "nbformat_minor": 5
}
