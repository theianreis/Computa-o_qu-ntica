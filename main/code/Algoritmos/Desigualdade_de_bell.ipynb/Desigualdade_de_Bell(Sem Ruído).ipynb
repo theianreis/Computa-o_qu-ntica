{
 "cells": [
  {
   "cell_type": "markdown",
   "id": "bbab568c",
   "metadata": {},
   "source": [
    "## Desigualdade De Bell\n",
    "- desigualdade de CHSH estabelece um limite máximo para a correlação entre medições locais em dois sistemas separados\n",
    "- Limite Clássico: $|S|\\leq2$\n",
    "- Limite Quântico: $|S|\\leq2\\sqrt{2}$"
   ]
  },
  {
   "cell_type": "markdown",
   "id": "ff7edc44",
   "metadata": {},
   "source": [
    "## Desenvolvendo um circuito para Violar a Desigualdade de Bell\n",
    "\n",
    "1. Preparar um estado maximamente emaranhado\n",
    "2. Realizar medições nos qubits em bases escolhidas para maximizar a violação da desigualdade de Bell\n",
    "3. Coletar as estatísticas \n",
    "4. Calcular a expressão de CHSH com os resultados experimentais."
   ]
  },
  {
   "cell_type": "code",
   "execution_count": 2,
   "id": "dd4d0ec3",
   "metadata": {},
   "outputs": [],
   "source": [
    "from qiskit import *\n",
    "from qiskit.circuit.library import RYGate\n",
    "import numpy as np\n",
    "from qiskit_aer import AerSimulator\n",
    "from qiskit.quantum_info import Statevector, DensityMatrix"
   ]
  },
  {
   "cell_type": "markdown",
   "id": "b7fb36a0",
   "metadata": {},
   "source": [
    "## Mapeamento:\n",
    "- Criação do circuito com qubtis emaranhados\n",
    "- Para violar CHSH, as medições devem ser feitas em bases rotacionadas. Logo, vamo aplicar uma porta RY para atingir a violação.\n"
   ]
  },
  {
   "cell_type": "code",
   "execution_count": 3,
   "id": "61c8c345",
   "metadata": {},
   "outputs": [
    {
     "name": "stdout",
     "output_type": "stream",
     "text": [
      "        ┌───┐     ┌───────┐               ░ ┌─┐   \n",
      "   q_0: ┤ H ├──■──┤ Ry(0) ├───────────────░─┤M├───\n",
      "        └───┘┌─┴─┐└─┬───┬─┘┌───┐┌───────┐ ░ └╥┘┌─┐\n",
      "   q_1: ─────┤ X ├──┤ X ├──┤ Z ├┤ Ry(0) ├─░──╫─┤M├\n",
      "             └───┘  └───┘  └───┘└───────┘ ░  ║ └╥┘\n",
      "   c: 2/═════════════════════════════════════╬══╬═\n",
      "                                             ║  ║ \n",
      "meas: 2/═════════════════════════════════════╩══╩═\n",
      "                                             0  1 \n"
     ]
    }
   ],
   "source": [
    "#Função do estado de bell com parametros theta_a e theta_b\n",
    "def bell_circuit(theta_a, theta_b):\n",
    "    qc = QuantumCircuit(2, 2)\n",
    "    qc.h(0)\n",
    "    qc.cx(0, 1)\n",
    "    qc.x(1)\n",
    "    qc.z(1)\n",
    "    \n",
    "    #Rotação de um qubit em torno do eixo Y.\n",
    "    qc.ry(-2 * theta_a, 0) #Rotação de Alice\n",
    "    qc.ry(-2 * theta_b, 1) #Rotação de Bob\n",
    "    \n",
    "    qc.measure_all()\n",
    "    return qc\n",
    "\n",
    "# Circuito sem rotação\n",
    "theta_a = 0\n",
    "theta_b = 0\n",
    "\n",
    "circuito = bell_circuit(theta_a, theta_b)\n",
    "print(circuito.draw())"
   ]
  },
  {
   "cell_type": "code",
   "execution_count": 4,
   "id": "c61c327f",
   "metadata": {},
   "outputs": [
    {
     "ename": "QiskitError",
     "evalue": "'Cannot apply instruction with classical bits: measure'",
     "output_type": "error",
     "traceback": [
      "\u001b[31m---------------------------------------------------------------------------\u001b[39m",
      "\u001b[31mQiskitError\u001b[39m                               Traceback (most recent call last)",
      "\u001b[36mCell\u001b[39m\u001b[36m \u001b[39m\u001b[32mIn[4]\u001b[39m\u001b[32m, line 1\u001b[39m\n\u001b[32m----> \u001b[39m\u001b[32m1\u001b[39m psi = \u001b[43mStatevector\u001b[49m\u001b[43m(\u001b[49m\u001b[43mcircuito\u001b[49m\u001b[43m)\u001b[49m\n\u001b[32m      2\u001b[39m DensityMatrix(psi)\n",
      "\u001b[36mFile \u001b[39m\u001b[32mc:\\Users\\ianre\\miniconda3\\envs\\cwq\\Lib\\site-packages\\qiskit\\quantum_info\\states\\statevector.py:101\u001b[39m, in \u001b[36mStatevector.__init__\u001b[39m\u001b[34m(self, data, dims)\u001b[39m\n\u001b[32m     99\u001b[39m     \u001b[38;5;28mself\u001b[39m._data = np.ravel(data.data)\n\u001b[32m    100\u001b[39m \u001b[38;5;28;01melif\u001b[39;00m \u001b[38;5;28misinstance\u001b[39m(data, (QuantumCircuit, Instruction)):\n\u001b[32m--> \u001b[39m\u001b[32m101\u001b[39m     \u001b[38;5;28mself\u001b[39m._data = \u001b[43mStatevector\u001b[49m\u001b[43m.\u001b[49m\u001b[43mfrom_instruction\u001b[49m\u001b[43m(\u001b[49m\u001b[43mdata\u001b[49m\u001b[43m)\u001b[49m.data\n\u001b[32m    102\u001b[39m \u001b[38;5;28;01melse\u001b[39;00m:\n\u001b[32m    103\u001b[39m     \u001b[38;5;28;01mraise\u001b[39;00m QiskitError(\u001b[33m\"\u001b[39m\u001b[33mInvalid input data format for Statevector\u001b[39m\u001b[33m\"\u001b[39m)\n",
      "\u001b[36mFile \u001b[39m\u001b[32mc:\\Users\\ianre\\miniconda3\\envs\\cwq\\Lib\\site-packages\\qiskit\\quantum_info\\states\\statevector.py:780\u001b[39m, in \u001b[36mStatevector.from_instruction\u001b[39m\u001b[34m(cls, instruction)\u001b[39m\n\u001b[32m    778\u001b[39m init[\u001b[32m0\u001b[39m] = \u001b[32m1.0\u001b[39m\n\u001b[32m    779\u001b[39m vec = Statevector(init, dims=instruction.num_qubits * (\u001b[32m2\u001b[39m,))\n\u001b[32m--> \u001b[39m\u001b[32m780\u001b[39m \u001b[38;5;28;01mreturn\u001b[39;00m \u001b[43mStatevector\u001b[49m\u001b[43m.\u001b[49m\u001b[43m_evolve_instruction\u001b[49m\u001b[43m(\u001b[49m\u001b[43mvec\u001b[49m\u001b[43m,\u001b[49m\u001b[43m \u001b[49m\u001b[43minstruction\u001b[49m\u001b[43m)\u001b[49m\n",
      "\u001b[36mFile \u001b[39m\u001b[32mc:\\Users\\ianre\\miniconda3\\envs\\cwq\\Lib\\site-packages\\qiskit\\quantum_info\\states\\statevector.py:968\u001b[39m, in \u001b[36mStatevector._evolve_instruction\u001b[39m\u001b[34m(statevec, obj, qargs)\u001b[39m\n\u001b[32m    966\u001b[39m \u001b[38;5;28;01mfor\u001b[39;00m instruction \u001b[38;5;129;01min\u001b[39;00m obj.definition:\n\u001b[32m    967\u001b[39m     \u001b[38;5;28;01mif\u001b[39;00m instruction.clbits:\n\u001b[32m--> \u001b[39m\u001b[32m968\u001b[39m         \u001b[38;5;28;01mraise\u001b[39;00m QiskitError(\n\u001b[32m    969\u001b[39m             \u001b[33mf\u001b[39m\u001b[33m\"\u001b[39m\u001b[33mCannot apply instruction with classical bits: \u001b[39m\u001b[38;5;132;01m{\u001b[39;00minstruction.operation.name\u001b[38;5;132;01m}\u001b[39;00m\u001b[33m\"\u001b[39m\n\u001b[32m    970\u001b[39m         )\n\u001b[32m    971\u001b[39m     \u001b[38;5;66;03m# Get the integer position of the flat register\u001b[39;00m\n\u001b[32m    972\u001b[39m     \u001b[38;5;28;01mif\u001b[39;00m qargs \u001b[38;5;129;01mis\u001b[39;00m \u001b[38;5;28;01mNone\u001b[39;00m:\n",
      "\u001b[31mQiskitError\u001b[39m: 'Cannot apply instruction with classical bits: measure'"
     ]
    }
   ],
   "source": [
    "psi = Statevector(circuito)\n",
    "DensityMatrix(psi)"
   ]
  },
  {
   "cell_type": "markdown",
   "id": "7f12a53b",
   "metadata": {},
   "source": [
    "## Criação do Backend e Transpilação \n",
    "1. Criamos o Backend e definimos a quantidade de execuções\n",
    "2. Execução de circuitos para ângulos específicos\n",
    "3. Executar cada circuito para uma das quatro configurações.\n",
    "4. Loop:\n",
    "    - Simular quatro experimentos diferentes com quatro ângulos\n",
    "    - Salva os resultados "
   ]
  },
  {
   "cell_type": "code",
   "execution_count": 5,
   "id": "d90d07be",
   "metadata": {},
   "outputs": [],
   "source": [
    "backend = AerSimulator()\n",
    "shots = 260\n",
    "\n",
    "# Ângulos para cada configuração\n",
    "angles = {\n",
    "    'A0B0': (0,np.pi+np.pi/4),\n",
    "    'A0B1': (0,np.pi+np.pi/2+np.pi/4),\n",
    "    'A1B0': (-np.pi/4, np.pi+np.pi/4),\n",
    "    'A1B1': (-np.pi/4, np.pi+np.pi/2+np.pi/4)\n",
    "}\n",
    "\n",
    "# Executar os circuitos\n",
    "results = {}\n",
    "for label, (theta_a, theta_b) in angles.items(): # #dicionário onde cada chave representa uma combinação de configurações de medição\n",
    "    qc = bell_circuit(theta_a, theta_b) #Retorna o circuito quântico específico daquela configuração.\n",
    "    tqc = transpile(qc, backend) #adapta o circuito para o backend (aqui, o simulador).\n",
    "    job = backend.run(tqc, shots=shots) #Executa o circuito transpilado no simulador.\n",
    "    counts = job.result().get_counts()\n",
    "    results[label] = counts #Armazena os resultados no dicionário results, com a chave sendo o rótulo da configuração"
   ]
  },
  {
   "cell_type": "markdown",
   "id": "1b1e14d1",
   "metadata": {},
   "source": [
    "5.  Calcular o valor esperado\n",
    "\n",
    "$$\n",
    "E = \\sum_{a,b} v(a,b) \\cdot P(a,b)\n",
    "\\quad \\text{onde} \\quad\n",
    "v(a,b) = \n",
    "\\begin{cases}\n",
    "+1 & \\text{se } a = b \\\\\n",
    "-1 & \\text{se } a \\neq b\n",
    "\\end{cases}\n",
    "$$"
   ]
  },
  {
   "cell_type": "code",
   "execution_count": 6,
   "id": "9c219624",
   "metadata": {},
   "outputs": [],
   "source": [
    "def expectation(counts):\n",
    "    total = sum(counts.values())\n",
    "    e = 0\n",
    "    for outcome, count in counts.items():\n",
    "        a, b = int(outcome[1]), int(outcome[0])  # Qiskit: bit 0 é o último\n",
    "        value = 1 if a == b else -1\n",
    "        e += value * count / total\n",
    "    return e\n"
   ]
  },
  {
   "cell_type": "markdown",
   "id": "3896bfa5",
   "metadata": {},
   "source": [
    "## Cálculo do parâmetro CHSH\n",
    "$$\n",
    "S =E(A_0,B_0)+E(A_0,B_1)+E(A_1,B_0)-E(E_1,B_1)\n",
    "$$\n",
    "- Se \n",
    "$∣S∣>2$, há violação da desigualdade clássica, provando não-localidade quântica."
   ]
  },
  {
   "cell_type": "code",
   "execution_count": 7,
   "id": "82b780dd",
   "metadata": {},
   "outputs": [
    {
     "name": "stdout",
     "output_type": "stream",
     "text": [
      "S = 2.092\n"
     ]
    }
   ],
   "source": [
    "E = {label: expectation(c) for label, c in results.items()}\n",
    "\n",
    "S = E['A0B0'] + E['A0B1'] + E['A1B0'] - E['A1B1']\n",
    "print(f\"S = {S:.3f}\")\n"
   ]
  },
  {
   "cell_type": "code",
   "execution_count": 8,
   "id": "438b3bec",
   "metadata": {},
   "outputs": [],
   "source": [
    "from qiskit.visualization import plot_histogram\n",
    "import matplotlib.pyplot as plt"
   ]
  },
  {
   "cell_type": "markdown",
   "id": "e77e15da",
   "metadata": {},
   "source": [
    "## Interpretação dos histogramas: \n",
    "| Resultado | Interpretação   | Contribuição para $E$ | Correlação|\n",
    "| --------- | --------------- | --------------------- | --------- |\n",
    "| `'00'`    | Ambos mediram 0 | $+1$                  | Forte     |\n",
    "| `'11'`    | Ambos mediram 1 | $+1$                  | Forte     |\n",
    "| `'01'`    | Alice 0, Bob 1  | $-1$                  | Anticorrelação|\n",
    "| `'10'`    | Alice 1, Bob 0  | $-1$                  | Anticorrelação|\n",
    "\n",
    "- Se $P(00)+P(11)≫P(01)+P(10)$, o valor esperado é próximo de +1: Correlacionado ($\\ket{00} e \\ket{11}$)\n",
    "- Se $P(00)+P(11)<<P(01)+P(10)$, o valor esperado é proximo de -1: Anticorrelacionado($\\ket{10} e \\ket{01}$)\n",
    "- Se $P(00)=P(11)==P(01)==(10)$, o valor esperado é zero: sem correlação.\n",
    "\n"
   ]
  },
  {
   "cell_type": "code",
   "execution_count": 9,
   "id": "1bdb99b0",
   "metadata": {},
   "outputs": [
    {
     "data": {
      "image/png": "[encoded data removed]",
      "text/plain": [
       "<Figure size 1200x800 with 4 Axes>"
      ]
     },
     "metadata": {},
     "output_type": "display_data"
    }
   ],
   "source": [
    "fig, axs = plt.subplots(2, 2, figsize=(12, 8))\n",
    "labels = list(results.keys())\n",
    "\n",
    "for i, ax in enumerate(axs.flat):\n",
    "    plot_histogram(results[labels[i]], ax=ax)\n",
    "    ax.set_title(labels[i])\n",
    "\n",
    "plt.suptitle(\"Distribuição das medições para cada configuração\")\n",
    "plt.tight_layout()\n",
    "plt.show()\n"
   ]
  }
 ],
 "metadata": {
  "kernelspec": {
   "display_name": "cwq",
   "language": "python",
   "name": "python3"
  },
  "language_info": {
   "codemirror_mode": {
    "name": "ipython",
    "version": 3
   },
   "file_extension": ".py",
   "mimetype": "text/x-python",
   "name": "python",
   "nbconvert_exporter": "python",
   "pygments_lexer": "ipython3",
   "version": "3.13.2"
  }
 },
 "nbformat": 4,
 "nbformat_minor": 5
}
