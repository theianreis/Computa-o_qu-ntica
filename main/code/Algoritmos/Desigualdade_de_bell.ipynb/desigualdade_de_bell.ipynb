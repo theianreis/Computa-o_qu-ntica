{
 "cells": [
  {
   "cell_type": "code",
   "execution_count": null,
   "id": "2e43d2ff",
   "metadata": {},
   "outputs": [],
   "source": [
    "\n",
    "# Função para criar o circuito Bell com uma rotação específica\n",
    "def create_bell_circuit(theta):\n",
    "    rq = QuantumRegister(2)\n",
    "    rc = ClassicalRegister(2)\n",
    "    bell = QuantumCircuit(rq, rc)\n",
    "\n",
    "    # Criação do estado de Bell\n",
    "    bell.x([0,1])\n",
    "    bell.h(0)\n",
    "    bell.cx(0,1)\n",
    "\n",
    "    # Aplicação da rotação no qubit 1\n",
    "    bell.ry(theta, 1)\n",
    "\n",
    "    return bell\n",
    "\n",
    "# Diferentes ângulos de rotação\n",
    "angles = [-2*pi/3, -4*pi/3, 2*pi/3, 4*pi/3]\n",
    "\n",
    "circuits = [create_bell_circuit(theta) for theta in angles]"
   ]
  }
 ],
 "metadata": {
  "language_info": {
   "name": "python"
  }
 },
 "nbformat": 4,
 "nbformat_minor": 5
}
