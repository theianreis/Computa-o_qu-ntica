{
 "cells": [
  {
   "cell_type": "markdown",
   "id": "bbab568c",
   "metadata": {},
   "source": [
    "## Estado maximamente emaranhados:\n",
    "\n",
    "$$\n",
    "\\begin{cases} \n",
    "\\ket{\\Phi^{+}} = \\frac{1}{\\sqrt{2}} (\\ket{00}+{11}) \\\\\n",
    "\\ket{\\Phi^{-}} = \\frac{1}{\\sqrt{2}} (\\ket{00}-{11}) \\\\\n",
    "\\ket{\\Psi^{+}} = \\frac{1}{\\sqrt{2}} (\\ket{01}+{10}) \\\\\n",
    "\\ket{\\Psi^{-}} = \\frac{1}{\\sqrt{2}} (\\ket{01}-{10})\n",
    "\\end{cases} \n",
    "$$\n",
    "\n",
    "## Desigualdade De Bell\n",
    "- desigualdade de CHSH estabelece um limite máximo para a correlação entre medições locais em dois sistemas separados\n",
    "- Limite Clássico: $|S|\\leq2$\n",
    "- Limite Quântico: $|S|\\leq2\\sqrt{2}$"
   ]
  },
  {
   "cell_type": "markdown",
   "id": "ff7edc44",
   "metadata": {},
   "source": [
    "## Desenvolvendo circuitos para Violar a Desigualdade de Bell\n",
    "\n",
    "1. Preparar estado maximamente emaranhado \n",
    "$$\n",
    "\\ket{\\Psi^{+}} = \\frac{1}{\\sqrt{2}} (\\ket{01}+{\\ket{10}})\n",
    "$$\n",
    "2. Realizar medições nos qubits em bases escolhidas para maximizar a violação da desigualdade de Bell\n",
    "3. Coletar as estatísticas \n",
    "4. Calcular a expressão de CHSH com os resultados experimentais."
   ]
  },
  {
   "cell_type": "code",
   "execution_count": 1,
   "id": "dd4d0ec3",
   "metadata": {},
   "outputs": [],
   "source": [
    "from qiskit import *\n",
    "from qiskit.circuit.library import RYGate\n",
    "import numpy as np\n",
    "from qiskit_aer import AerSimulator\n",
    "from qiskit.quantum_info import Statevector, DensityMatrix\n",
    "from qiskit_aer import AerSimulator\n",
    "from qiskit_aer.noise import NoiseModel\n",
    "from qiskit.primitives import BackendSamplerV2\n"
   ]
  },
  {
   "cell_type": "markdown",
   "id": "b7fb36a0",
   "metadata": {},
   "source": [
    "## Mapeamento:\n",
    "- Criação do circuito com qubtis emaranhados\n",
    "- Para violar CHSH, as medições devem ser feitas em bases rotacionadas. Logo, vamo aplicar uma porta RY para atingir a violação.\n",
    "- Utilizamos um função que recebe dois parâmetros: theta_a(Ângulo de medição de Alice) e theta_b(Ângulo de medição de Bob) para criação de um circuito. Esse ângulos contribuiem para determinação das bases para qubit que será medido \n"
   ]
  },
  {
   "cell_type": "code",
   "execution_count": 2,
   "id": "61c8c345",
   "metadata": {},
   "outputs": [
    {
     "data": {
      "image/png": "[encoded data removed]",
      "text/plain": [
       "<Figure size 831.22x367.889 with 1 Axes>"
      ]
     },
     "execution_count": 2,
     "metadata": {},
     "output_type": "execute_result"
    }
   ],
   "source": [
    "#Função do estado de bell com parametros theta_a e theta_b\n",
    "def bell_circuit(theta_a, theta_b):\n",
    "    qc = QuantumCircuit(2, 2)\n",
    "    qc.h(0)\n",
    "    qc.cx(0, 1)\n",
    "    qc.x(1)\n",
    "    qc.z(1)\n",
    "\n",
    "    #Rotação de um qubit em torno do eixo Y.\n",
    "    qc.ry(-theta_a, 0) #Rotação de Alice\n",
    "    qc.ry(-theta_b, 1) #Rotação de Bob\n",
    "    \n",
    "    qc.measure_all()\n",
    "    return qc\n",
    "\n",
    "# Circuito sem rotação\n",
    "theta_a = 0\n",
    "theta_b = 0\n",
    "\n",
    "circuito = bell_circuit(theta_a, theta_b)\n",
    "circuito.draw(\"mpl\")"
   ]
  },
  {
   "cell_type": "markdown",
   "id": "7f12a53b",
   "metadata": {},
   "source": [
    "## Criação do Backend e Transpilação \n",
    "1. Criamos o Backend e \n",
    "2. Definimos a quantidade de execuções\n",
    "3. Criação de um dicionário para armazenar as configurações de medição. E armazenamos os valores dos ângulos para rotação em tuplas theta_a e theta_b\n",
    "2. Execução de circuitos para ângulos específicos\n",
    "3. Executar cada circuito para uma das quatro configurações.\n",
    "4. Loop:\n",
    "    - Simular quatro experimentos diferentes com quatro ângulos\n",
    "    - Salva os resultados "
   ]
  },
  {
   "cell_type": "code",
   "execution_count": 4,
   "id": "d90d07be",
   "metadata": {},
   "outputs": [],
   "source": [
    "backend= AerSimulator()\n",
    "\n",
    "# Criação do dicionário com ângulos de rotação \n",
    "angles = {\n",
    "    'A0B0': (0,np.pi/4),\n",
    "    'A0B1': (0,-np.pi/4),\n",
    "    'A1B0': (np.pi/2,np.pi/4),\n",
    "    'A1B1': (np.pi/2,-np.pi/4)\n",
    "}\n",
    "\n",
    "# Executar os circuitos\n",
    "results_sem_ruido = {} #Inicializa dicionário vazio para armazenar as contagens de cada configuração.\n",
    "for label, (theta_a, theta_b) in angles.items(): #Itera sobre cada par label e tuplas de ângulos\n",
    "    qc = bell_circuit(theta_a, theta_b) #Retorna o circuito quântico específico daquela configuração.\n",
    "    tqc = transpile(qc, backend) #adapta o circuito para o backend (aqui, o simulador).\n",
    "    job = backend.run(tqc, shots=1000) #Executa o circuito transpilado no simulador.\n",
    "    counts = job.result().get_counts()\n",
    "    results_sem_ruido[label] = counts #Armazena os resultados no dicionário results, com a chave sendo o rótulo da configuração"
   ]
  },
  {
   "cell_type": "markdown",
   "id": "1b1e14d1",
   "metadata": {},
   "source": [
    "5.  Calcular o valor esperado\n",
    "\n",
    "$$\n",
    "E = \\sum_{a,b} v(a,b) \\cdot P(a,b)\n",
    "\\quad \\text{onde} \\quad\n",
    "v(a,b) = \n",
    "\\begin{cases}\n",
    "+1 & \\text{se } a = b \\\\\n",
    "-1 & \\text{se } a \\neq b\n",
    "\\end{cases}\n",
    "$$"
   ]
  },
  {
   "cell_type": "code",
   "execution_count": 7,
   "id": "9c219624",
   "metadata": {},
   "outputs": [],
   "source": [
    "# Contrução de uma função que recebe o dicionário counts ,e retorna o valor de E\n",
    "def expectation(counts):\n",
    "    total = sum(counts.values()) #soma de todas as contagens \n",
    "    e = 0 #Inicializa variável acumuladora de expectativa.\n",
    "    for outcome, count in counts.items():\n",
    "        a, b = int(outcome[1]), int(outcome[0])  #\n",
    "        value = 1 if a == b else -1 #Aplicação de v(a,b)\n",
    "        e += value * count / total\n",
    "    return e\n"
   ]
  },
  {
   "cell_type": "markdown",
   "id": "3896bfa5",
   "metadata": {},
   "source": [
    "## Cálculo do parâmetro CHSH\n",
    "$$\n",
    "S =E(A_0,B_0)+E(A_0,B_1)+E(A_1,B_0)-E(E_1,B_1)\n",
    "$$\n",
    "- Se \n",
    "$∣S∣>2$, há violação da desigualdade clássica, provando não-localidade quântica."
   ]
  },
  {
   "cell_type": "code",
   "execution_count": 10,
   "id": "82b780dd",
   "metadata": {},
   "outputs": [
    {
     "name": "stdout",
     "output_type": "stream",
     "text": [
      "S = -2.774\n"
     ]
    }
   ],
   "source": [
    "E = {label: expectation(c) for label, c in results_sem_ruido.items()} #Expectativas calculadas\n",
    "\n",
    "S = E['A0B0'] + E['A0B1'] + E['A1B0'] - E['A1B1'] #Combina as 4 expectativas conforme a fórmula CHSH \n",
    "print(f\"S = {S:.3f}\")"
   ]
  }
 ],
 "metadata": {
  "kernelspec": {
   "display_name": "cwq",
   "language": "python",
   "name": "python3"
  },
  "language_info": {
   "codemirror_mode": {
    "name": "ipython",
    "version": 3
   },
   "file_extension": ".py",
   "mimetype": "text/x-python",
   "name": "python",
   "nbconvert_exporter": "python",
   "pygments_lexer": "ipython3",
   "version": "3.13.2"
  }
 },
 "nbformat": 4,
 "nbformat_minor": 5
}
