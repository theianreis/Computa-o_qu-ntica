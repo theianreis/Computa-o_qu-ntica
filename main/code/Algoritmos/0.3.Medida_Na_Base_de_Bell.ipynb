{
 "cells": [
  {
   "cell_type": "code",
   "execution_count": 1,
   "id": "ef45e4e0",
   "metadata": {},
   "outputs": [],
   "source": [
    "from qiskit import *\n",
    "from qiskit import transpile\n",
    "from qiskit.visualization import plot_bloch_multivector\n",
    "from qiskit.visualization import plot_histogram\n",
    "from qiskit_aer import *\n",
    "from qiskit.quantum_info import Statevector"
   ]
  },
  {
   "cell_type": "markdown",
   "id": "48b43764",
   "metadata": {},
   "source": [
    "Medida de Bell\n",
    "- Registrar 3 qubits\n",
    "- criar um espaço de bell (CNOT(controle=1, alvo=2))\n",
    "- Emaranhar qubit 0 com o par de bell CNOT(controle=qubit0 , alvo=qubit1)\n",
    "- Qubit muda de base com Hadamard --> base computacional  --> Superposição "
   ]
  },
  {
   "cell_type": "code",
   "execution_count": null,
   "id": "f45e7385",
   "metadata": {},
   "outputs": [],
   "source": [
    "qr1 = (2, 'qr1')\n",
    "qr2 = (1, 'qr2'\n",
    "cr = (2, 'cr')\n"
   ]
  }
 ],
 "metadata": {
  "kernelspec": {
   "display_name": "cwq",
   "language": "python",
   "name": "python3"
  },
  "language_info": {
   "codemirror_mode": {
    "name": "ipython",
    "version": 3
   },
   "file_extension": ".py",
   "mimetype": "text/x-python",
   "name": "python",
   "nbconvert_exporter": "python",
   "pygments_lexer": "ipython3",
   "version": "3.13.2"
  }
 },
 "nbformat": 4,
 "nbformat_minor": 5
}
