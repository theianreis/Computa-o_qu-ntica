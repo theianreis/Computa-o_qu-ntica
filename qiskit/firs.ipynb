{
 "cells": [
  {
   "cell_type": "code",
   "execution_count": null,
   "metadata": {},
   "outputs": [],
   "source": [
    "import qiskit"
   ]
  },
  {
   "cell_type": "code",
   "execution_count": null,
   "metadata": {},
   "outputs": [],
   "source": [
    "from qiskit_ibm_runtime import QiskitRuntimeService\n",
    "\n",
    "service  = QiskitRuntimeService(channel=\"ibm_cloud\", # ibm_cloud\n",
    "                                token='6354139f47ecc29f5e33554bb848f23eab3d02ce6af6bbb6cdd3d99c243651064c328279d00de0f9c76fcf0b9c3f911de3825f95901862ef3b378a4481f5f82c')"
   ]
  },
  {
   "cell_type": "code",
   "execution_count": null,
   "metadata": {},
   "outputs": [],
   "source": [
    "QiskitRuntimeService.save_account(channel='ibm_cloud',\n",
    "                                  token='')"
   ]
  }
 ],
 "metadata": {
  "kernelspec": {
   "display_name": "cwq",
   "language": "python",
   "name": "python3"
  },
  "language_info": {
   "name": "python",
   "version": "3.13.2"
  }
 },
 "nbformat": 4,
 "nbformat_minor": 2
}
