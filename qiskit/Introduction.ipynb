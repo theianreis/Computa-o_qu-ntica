{
 "cells": [
  {
   "cell_type": "markdown",
   "metadata": {},
   "source": [
    "## Anatomia de um serviço de computação quântica \n",
    "- linguagem cod em quant : qiskit\n",
    "- nuvem --> Empacotar o programa --> Servidor --> controle  eletrônioc  --> resultado: convertido em sequências de pulso de micro-ondas --> Executado em um processador quântico real"
   ]
  },
  {
   "cell_type": "markdown",
   "metadata": {},
   "source": [
    "### O que é o Qiskit\n",
    "- open-source SDK para trabalhar com qc no nível de circuitos quânticos ,operadores e primitivos. \n",
    "\n",
    "#### Qiskit runtime\n",
    "- Serviço de nuvem para execução qc na IBM\n",
    "\n",
    "#### Qiskit patterns\n",
    "- diretrizes para resolver um problema \n",
    "1. mapear seu problema \n",
    "2. otimizar esse circuito\n",
    "3. envialo para o hardware\n",
    "4. pós-processamento \n"
   ]
  },
  {
   "cell_type": "markdown",
   "metadata": {},
   "source": [
    "### Mapear seu problema \n",
    "1. construir o circuito "
   ]
  },
  {
   "cell_type": "code",
   "execution_count": 1,
   "metadata": {},
   "outputs": [
    {
     "data": {
      "image/png": "[encoded data removed]",
      "text/plain": [
       "<Figure size 580.387x284.278 with 1 Axes>"
      ]
     },
     "execution_count": 1,
     "metadata": {},
     "output_type": "execute_result"
    }
   ],
   "source": [
    "from qiskit import QuantumCircuit, QuantumRegister\n",
    "\n",
    "qubits = QuantumRegister(2 , name='q') #Registrando 2 qubits\n",
    "circuit = QuantumCircuit(qubits) #Colocar os qubits em um circuito quântico\n",
    "\n",
    "q0,q1= qubits \n",
    "\n",
    "#gates\n",
    "circuit.h(q0) #Hadamard --> Superposição\n",
    "circuit.cx(q0,q1) #CNOT --> Entrelaçamento\n",
    "circuit.measure_all() #Porta de medição \n",
    "\n",
    "circuit.draw('mpl') #Desenhar o circuito(Obs: O uso do mpl é algo relacionado ao estilo)"
   ]
  },
  {
   "cell_type": "markdown",
   "metadata": {},
   "source": [
    "## Otimização \n",
    "- Transpilação  \n",
    "    - Conjuto limitado de portas pode ser exe diretamento no hardware\n",
    "    - conectividade correta\n",
    "    - erro: \n",
    "- Otimização (Opcional) --> Circuito ISA (Circuito otimizado)\n",
    "    - circuito abstrato --> Disp Quântico Especificado \n",
    "    - pass: Circ autônomo ou transf de metadados\n",
    "    - pass manager: Lista de passagens do transpilador agrupadas em uma unidade lógica\n",
    "    - staged pass manager: Lista de gerenciadores de passes, com cada um representando um estágio discreto de uma pipeline de transpilação "
   ]
  },
  {
   "cell_type": "code",
   "execution_count": null,
   "metadata": {},
   "outputs": [],
   "source": [
    "from qiskit import QuantumCircuit, QuantumRegister\n",
    "from qiskit.transpiler.preset_passmanagers import generate_preset_pass_manager\n",
    "from qiskit_ibm_runtime import QiskitRuntimeService\n",
    "\n",
    "qubits = QuantumRegister(2, name='q')\n",
    "circuit = QuantumCircuit(qubits)\n",
    "\n",
    "q0 , q1= qubits\n",
    "circuit.h(q0)\n",
    "circuit.cx(q0,q1)\n",
    "\n",
    "#Transpilação\n",
    "service = QiskitRuntimeService() #iniciar\n",
    "backend = service.backend('ibm_brisbane') #Converte o circuito em algo específico para o backend\n",
    "pass_manager = generate_preset_pass_manager(optimazation_level=3, backend=backend) #\n",
    "isa_circuit = pass_manager.run(circuit) #Gerar o circuito ISA\n",
    "\n",
    "isa_circuit.draw('mpl', idle_wires=False)"
   ]
  },
  {
   "cell_type": "markdown",
   "metadata": {},
   "source": [
    "### Diferentes Tipos de Transpilação \n",
    "- Inicialização: Circuito preparado para transpilação\n",
    "- Layout: qubits abstrato --> Mapeado --> Qubits físicos\n",
    "- Routing: Portas de trocas são inseridas para permitir interação entre qubits que não estão fisicamento conectados\n",
    "- Translation: Portas do circuitos são traduzidas para o conjunto de portas \n",
    "- Optimization: Circuito reescrito para minimizar profundidade e diminuir efeitos de erros \n",
    "- Scheduling: Instruções de atraso(Alinha circuito com o tempo de hardware)"
   ]
  },
  {
   "cell_type": "markdown",
   "metadata": {},
   "source": [
    "### Simulação\n",
    "- Primitivas de referência do Qiskit SDK :Simulações exatas(Circuito pequenos e sem simulação de ruido)\n",
    "- Teste local do Qiskit runtime: Fornece backends 'falsos' para modelar cada máquina quântica. \n",
    "- Qiskit Aer: Proj de ecossitema para simulação \n",
    "    - Circuito maiores\n",
    "    - Circuitos Estabilizadores \n",
    "    - Modelo de ruído\n",
    "\n",
    "\n",
    "- simular circuitos quânticos aumenta exp com o número de qubits\n",
    "\n",
    "- Técnicas de grandes circuitos \n",
    "    - Versões menotes\n",
    "    - Torne classicamente simulável --> Circuito estabilizador(Circuito de Clifford)"
   ]
  },
  {
   "cell_type": "markdown",
   "metadata": {},
   "source": [
    "### Execução no Hardware\n",
    "\n",
    "- Primitivo vai encapsular um output de uma circuito quântico\n",
    "- Primitivo de amostrador: Série de sequências de bits mapeados para númeto de contagens(Depende de portas de medição)\n",
    "- Primitivo Estimador: Valor esperado de um observável (Não depende de portas de medição)\n"
   ]
  },
  {
   "cell_type": "code",
   "execution_count": null,
   "metadata": {},
   "outputs": [],
   "source": [
    "import numpy as np \n",
    "from qiskit.circuit.library import IQP \n",
    "from qiskit.quantum_info import random_hermitian\n",
    "from qiskit_ibm_runtime import QiskitRuntimeService, SamplerV2 as Sampler\n",
    "\n",
    "service = QiskitRuntimeService()\n",
    "\n",
    "#Utilizando o Serviço Procurar um dispositivo quântico menos ocupado \n",
    "backend = service.least_busy(operational=True,simulator=False, min_num_qubits=127)\n",
    "\n",
    "n_qubits = 127\n",
    "\n",
    "mat = np.real(random_hermitian(n_qubits,seed=1234))\n",
    "circuit =IQP(mat)\n",
    "circuit.measure_all()\n",
    "\n",
    "pm = generate_preset_pass_manager(backend=backend,optimization_level=1 )\n",
    "isa_circuit = pm.run(circuit)\n",
    "\n",
    "#Inicializando um amostrador \n",
    "sampler = Sampler(backend)\n",
    "job = sampler.run([isa_circuit])\n",
    "result = job.result()"
   ]
  },
  {
   "cell_type": "code",
   "execution_count": null,
   "metadata": {},
   "outputs": [],
   "source": [
    "import numpy as np\n",
    "from qiskit.circuit.library import IQP\n",
    "from qiskit.transpiler.preset_passmanagers import generate_preset_pass_manager\n",
    "from qiskit.quantum_info import SparsePauliOp , random_hermitian\n",
    "from qiskit_ibm_runtime import  EstimatorV2 as Estimator, QiskitRuntimeService\n",
    "\n",
    "service = QiskitRuntimeService()\n",
    "backend = service.least_busy(operational=True,simulator=False, min_num_qubits=127)\n",
    "estimator = Estimator(backend)\n",
    "\n",
    "#Especificando um observavel \n",
    "mat =np.real(random_hermitian(n_qubits, seed = 1234))\n",
    "circuit = IQP(mat)\n",
    "observable = SparsePauliOp('Z'*n_qubits) #gerar um valor esperado\n",
    "\n",
    "pm = generate_preset_pass_manager(backend=backend,optimization_level=1 )\n",
    "isa_circuit = pm.run(circuit)\n",
    "isa_observable = observable.apply_layout(isa_circuit.layout) #extrair o observável\n",
    "\n",
    "job= estimator.run([(isa_circuit,isa_observable)])\n",
    "result =job.result()\n",
    "\n",
    "print(f'>Expectation value :{result[0].data.evs}')\n",
    "print(f'>Metadata: {result[0].metadata}')\n",
    "\n",
    "\n"
   ]
  },
  {
   "cell_type": "markdown",
   "metadata": {},
   "source": [
    "### Customize Qiskit runtime Behavior \n",
    "\n",
    "- shots: reduzir erros estatisticos \n",
    "- Erro de supressão: Desacoplamento dinâmico(Diminiu a decoerência de um qubit)\n",
    "- Erro de mitigação : reduzir o efeito de ruído (Rex and Z)"
   ]
  },
  {
   "cell_type": "markdown",
   "metadata": {},
   "source": [
    "### Modos de Execução \n",
    "- single job\n",
    "- batch: Multiple jobs\n",
    "- session: Iteração vários jobs"
   ]
  },
  {
   "cell_type": "code",
   "execution_count": null,
   "metadata": {},
   "outputs": [],
   "source": [
    "from qiskit_ibm_runtime import SamplerV2 as Sampler , Batch\n",
    "\n",
    "max_circuits = 100\n",
    "all_partitioned_circuits = []\n",
    "for i in range(0,len(circuits), max_circuits):\n",
    "        all_partitioned_circuits.append(circuit[i:i+max_circuits])\n",
    "jobs = []\n",
    "start_idx = 0\n",
    "\n",
    "with Batch(backend=backend):\n",
    "        sampler = Sampler()\n",
    "        for partitioned_circuits in all_partitioned_circuits:\n",
    "                job = sampler.run(partitioned_circuits)\n",
    "                jobs.append(job)    "
   ]
  },
  {
   "cell_type": "code",
   "execution_count": null,
   "metadata": {},
   "outputs": [],
   "source": [
    "from qiskit_ibm_runtime import SamplerV2\n",
    "from qiskit_ibm_runtime import QiskitRuntimeService,Session\n",
    "\n",
    "service = QiskitRuntimeService()\n",
    "backend = service.backend(\"ibm_brisbane\")\n",
    "\n",
    "with Session(backend=backend):\n",
    "    estimator =Estimator\n"
   ]
  },
  {
   "cell_type": "markdown",
   "metadata": {},
   "source": [
    "## Pós-Processamento \n",
    "- Visualizar resultados:\n",
    "    - plot_histogram()\n",
    "    - post-selection\n",
    "\n",
    "- Circuit Knitting\n",
    "    - Corta circuitos \n",
    "    - Executar circuitos menores\n",
    "    - Unir o resultado \n",
    "\n"
   ]
  }
 ],
 "metadata": {
  "kernelspec": {
   "display_name": "cwq",
   "language": "python",
   "name": "python3"
  },
  "language_info": {
   "codemirror_mode": {
    "name": "ipython",
    "version": 3
   },
   "file_extension": ".py",
   "mimetype": "text/x-python",
   "name": "python",
   "nbconvert_exporter": "python",
   "pygments_lexer": "ipython3",
   "version": "3.13.2"
  }
 },
 "nbformat": 4,
 "nbformat_minor": 2
}
