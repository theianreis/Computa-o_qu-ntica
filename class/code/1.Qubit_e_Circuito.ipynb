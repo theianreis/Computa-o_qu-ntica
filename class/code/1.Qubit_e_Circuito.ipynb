{
 "cells": [
  {
   "cell_type": "markdown",
   "metadata": {},
   "source": [
    "##  qb\n",
    "- Unidade básicas \n",
    "- Registrada no código e alocado \n",
    "- array(prop)\n",
    "## Circuito\n",
    "- Sequência de portas quânticas aplicada em um qb\n",
    "- Onde vai acontecer as operações\n",
    "- E tais operaçõs são efetuadas por portas"
   ]
  },
  {
   "cell_type": "code",
   "execution_count": 1,
   "metadata": {},
   "outputs": [],
   "source": [
    "from qiskit import *"
   ]
  },
  {
   "cell_type": "code",
   "execution_count": 2,
   "metadata": {},
   "outputs": [
    {
     "data": {
      "image/png": "[encoded data removed]",
      "text/plain": [
       "<Figure size 203.481x200.667 with 1 Axes>"
      ]
     },
     "execution_count": 2,
     "metadata": {},
     "output_type": "execute_result"
    }
   ],
   "source": [
    "Qr = QuantumRegister(1)\n",
    "Cr = ClassicalRegister(1)\n",
    "\n",
    "\n",
    "circuit = QuantumCircuit(Qr,Cr)\n",
    "circuit.reset(Qr[0]) # Estado inicial do qubit \n",
    "\n",
    "#ploting circuit \n",
    "circuit.draw('mpl')\n"
   ]
  }
 ],
 "metadata": {
  "kernelspec": {
   "display_name": "cwq",
   "language": "python",
   "name": "python3"
  },
  "language_info": {
   "codemirror_mode": {
    "name": "ipython",
    "version": 3
   },
   "file_extension": ".py",
   "mimetype": "text/x-python",
   "name": "python",
   "nbconvert_exporter": "python",
   "pygments_lexer": "ipython3",
   "version": "3.13.2"
  }
 },
 "nbformat": 4,
 "nbformat_minor": 2
}
