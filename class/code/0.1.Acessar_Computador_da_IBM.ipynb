{
 "cells": [
  {
   "cell_type": "markdown",
   "id": "950ac5a2",
   "metadata": {},
   "source": [
    "## Acessar o computador da IBM\n",
    "\n",
    "- lib do qiskit --> ponte\n",
    "- token API"
   ]
  },
  {
   "cell_type": "code",
   "execution_count": null,
   "id": "d9c4811c",
   "metadata": {},
   "outputs": [],
   "source": []
  },
  {
   "cell_type": "code",
   "execution_count": 1,
   "id": "07a4ecc2",
   "metadata": {},
   "outputs": [],
   "source": [
    "import qiskit\n",
    "from qiskit_ibm_runtime import QiskitRuntimeService\n",
    "\n",
    "service = QiskitRuntimeService(channel=\"ibm_quantum\", token=\"6354139f47ecc29f5e33554bb848f23eab3d02ce6af6bbb6cdd3d99c243651064c328279d00de0f9c76fcf0b9c3f911de3825f95901862ef3b378a4481f5f82c\")"
   ]
  },
  {
   "cell_type": "markdown",
   "id": "e64e38f6",
   "metadata": {},
   "source": [
    "## Salvar o token de acesso no computador doméstico"
   ]
  },
  {
   "cell_type": "code",
   "execution_count": 2,
   "id": "e5977585",
   "metadata": {},
   "outputs": [],
   "source": [
    "QiskitRuntimeService.save_account(channel=\"ibm_quantum\",token='6354139f47ecc29f5e33554bb848f23eab3d02ce6af6bbb6cdd3d99c243651064c328279d00de0f9c76fcf0b9c3f911de3825f95901862ef3b378a4481f5f82c')"
   ]
  },
  {
   "cell_type": "markdown",
   "id": "fa2ae389",
   "metadata": {},
   "source": [
    "### Conectar o alg com o CQ\n",
    "- acessar um backend em IBM sherbrooke com objeto service\n",
    "- operation_names --> Listar operações que você pode fazer "
   ]
  },
  {
   "cell_type": "code",
   "execution_count": 3,
   "id": "05599efb",
   "metadata": {},
   "outputs": [
    {
     "data": {
      "text/plain": [
       "['measure',\n",
       " 'x',\n",
       " 'id',\n",
       " 'for_loop',\n",
       " 'rz',\n",
       " 'sx',\n",
       " 'ecr',\n",
       " 'reset',\n",
       " 'delay',\n",
       " 'switch_case',\n",
       " 'if_else']"
      ]
     },
     "execution_count": 3,
     "metadata": {},
     "output_type": "execute_result"
    }
   ],
   "source": [
    "backend = service.backend(name = \"ibm_sherbrooke\")\n",
    "backend.operation_names"
   ]
  },
  {
   "cell_type": "markdown",
   "id": "d50d9d86",
   "metadata": {},
   "source": [
    "measure : Medições \n",
    "x: Por x\n",
    "id: Identidade \n",
    "for_loop: loops\n",
    "rz: rotação no z\n",
    "sx: raiz da porta x\n",
    "ecr: CNOT\n",
    "reset: Resetar qubit\n",
    "delay: controle temporal \n",
    "switch_case: controle de fluxo\n",
    "if_else: condicional "
   ]
  }
 ],
 "metadata": {
  "kernelspec": {
   "display_name": "cwq",
   "language": "python",
   "name": "python3"
  },
  "language_info": {
   "codemirror_mode": {
    "name": "ipython",
    "version": 3
   },
   "file_extension": ".py",
   "mimetype": "text/x-python",
   "name": "python",
   "nbconvert_exporter": "python",
   "pygments_lexer": "ipython3",
   "version": "3.13.2"
  }
 },
 "nbformat": 4,
 "nbformat_minor": 5
}
