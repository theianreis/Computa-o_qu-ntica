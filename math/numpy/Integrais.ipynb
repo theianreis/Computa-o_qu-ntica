{
 "cells": [
  {
   "cell_type": "markdown",
   "id": "13374f00",
   "metadata": {},
   "source": [
    "## Integrais"
   ]
  },
  {
   "cell_type": "markdown",
   "id": "aca07dc3",
   "metadata": {},
   "source": [
    "#### Integrais Numéricas (Regra do Trapézio ou de Simpson)\n",
    "\n",
    "Exemplo: $f(x)=e^{-x^{2}}$"
   ]
  },
  {
   "cell_type": "code",
   "execution_count": 1,
   "id": "ecc80bdf",
   "metadata": {},
   "outputs": [
    {
     "name": "stdout",
     "output_type": "stream",
     "text": [
      "Área aproximada = 0.7468240713763741\n"
     ]
    },
    {
     "name": "stderr",
     "output_type": "stream",
     "text": [
      "C:\\Users\\ianre\\AppData\\Local\\Temp\\ipykernel_5964\\3068087957.py:6: DeprecationWarning: `trapz` is deprecated. Use `trapezoid` instead, or one of the numerical integration functions in `scipy.integrate`.\n",
      "  area = np.trapz(f, x)\n"
     ]
    }
   ],
   "source": [
    "import numpy as np\n",
    "import matplotlib.pyplot as plt\n",
    "\n",
    "x = np.linspace(0, 1, 1000)\n",
    "f = np.exp(-x**2)\n",
    "area = np.trapz(f, x)\n",
    "print(f\"Área aproximada = {area}\")"
   ]
  }
 ],
 "metadata": {
  "kernelspec": {
   "display_name": "cwq",
   "language": "python",
   "name": "python3"
  },
  "language_info": {
   "codemirror_mode": {
    "name": "ipython",
    "version": 3
   },
   "file_extension": ".py",
   "mimetype": "text/x-python",
   "name": "python",
   "nbconvert_exporter": "python",
   "pygments_lexer": "ipython3",
   "version": "3.13.2"
  }
 },
 "nbformat": 4,
 "nbformat_minor": 5
}
