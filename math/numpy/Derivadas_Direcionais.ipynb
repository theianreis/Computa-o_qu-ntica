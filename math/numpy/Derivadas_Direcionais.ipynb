{
 "cells": [
  {
   "cell_type": "markdown",
   "id": "901dfc95",
   "metadata": {},
   "source": [
    "#### Derivadas Direcionais \n",
    "\n",
    "A derivada direcional de uma função $f(x,y)$ na direção de um vetor $\\vec{u}=(u_1,u_2)$ unitário é dada por:\n",
    "\n",
    "$$D_{\\vec{u}} f(x_0, y_0) = \\nabla f(x_0, y_0) \\cdot \\vec{u}$$\n",
    "\n",
    "#### Vetor Gradiente \n",
    "\n",
    "Dado f(x,y), o grandiente é o vetor:\n",
    "\n",
    "$$\\nabla f(x, y) = \\left( \\frac{\\partial f}{\\partial x}, \\frac{\\partial f}{\\partial y} \\right)$$\n",
    "\n",
    "É o vetor que aponta na direção de maior crescimento de f\n"
   ]
  },
  {
   "cell_type": "markdown",
   "id": "874629c2",
   "metadata": {},
   "source": [
    "#### Importação e definição do ponto "
   ]
  },
  {
   "cell_type": "code",
   "execution_count": 3,
   "id": "495a323f",
   "metadata": {},
   "outputs": [],
   "source": [
    "import numpy as np\n",
    "\n",
    "# Ponto de avaliação\n",
    "x0 = 1\n",
    "y0 = 2\n",
    "\n",
    "# Vetor direção (não precisa ser unitário ainda)\n",
    "v = np.array([1, 1])\n"
   ]
  },
  {
   "cell_type": "markdown",
   "id": "30f384ca",
   "metadata": {},
   "source": [
    "#### Cálculo do vetor gradiente ∇f(x0, y0)"
   ]
  },
  {
   "cell_type": "markdown",
   "id": "d6ee64ab",
   "metadata": {},
   "source": [
    "$$\\nabla f(x, y) = \\left( \\frac{\\partial f}{\\partial x}, \\frac{\\partial f}{\\partial y} \\right)$$"
   ]
  },
  {
   "cell_type": "code",
   "execution_count": 4,
   "id": "bc964688",
   "metadata": {},
   "outputs": [
    {
     "name": "stdout",
     "output_type": "stream",
     "text": [
      "∇f(x0, y0) = [ 2 12]\n"
     ]
    }
   ],
   "source": [
    "# Derivadas parciais no ponto\n",
    "df_dx = 2 * x0   # ∂f/∂x = 2x \n",
    "df_dy = 6 * y0   # ∂f/∂y = 6y\n",
    "\n",
    "# Vetor gradiente\n",
    "grad = np.array([df_dx, df_dy])\n",
    "\n",
    "print(\"∇f(x0, y0) =\", grad)\n"
   ]
  },
  {
   "cell_type": "markdown",
   "id": "9bcd73d8",
   "metadata": {},
   "source": [
    "#### Normalizar o vetor direção"
   ]
  },
  {
   "cell_type": "code",
   "execution_count": 5,
   "id": "9d934725",
   "metadata": {},
   "outputs": [
    {
     "name": "stdout",
     "output_type": "stream",
     "text": [
      "Vetor unitário u = [0.70710678 0.70710678]\n"
     ]
    }
   ],
   "source": [
    "# Norma (módulo) do vetor direção\n",
    "norm_v = np.linalg.norm(v)\n",
    "\n",
    "# Vetor unitário na direção de v\n",
    "u = v / norm_v\n",
    "\n",
    "print(\"Vetor unitário u =\", u)"
   ]
  },
  {
   "cell_type": "markdown",
   "id": "aa48e496",
   "metadata": {},
   "source": [
    "#### Produto escalar (gradiente ⋅ vetor direção)"
   ]
  },
  {
   "cell_type": "markdown",
   "id": "66af35e5",
   "metadata": {},
   "source": [
    "$$D_{\\vec{u}} f(x_0, y_0) = \\nabla f(x_0, y_0) \\cdot \\vec{u}$$"
   ]
  },
  {
   "cell_type": "code",
   "execution_count": 6,
   "id": "85c4a528",
   "metadata": {},
   "outputs": [
    {
     "name": "stdout",
     "output_type": "stream",
     "text": [
      "Derivada Direcional = 9.899494936611664\n"
     ]
    }
   ],
   "source": [
    "# Produto escalar gradiente · vetor unitário\n",
    "direcional = grad[0]*u[0] + grad[1]*u[1]\n",
    "\n",
    "print(\"Derivada Direcional =\", direcional)"
   ]
  }
 ],
 "metadata": {
  "kernelspec": {
   "display_name": "cwq",
   "language": "python",
   "name": "python3"
  },
  "language_info": {
   "codemirror_mode": {
    "name": "ipython",
    "version": 3
   },
   "file_extension": ".py",
   "mimetype": "text/x-python",
   "name": "python",
   "nbconvert_exporter": "python",
   "pygments_lexer": "ipython3",
   "version": "3.13.2"
  }
 },
 "nbformat": 4,
 "nbformat_minor": 5
}
